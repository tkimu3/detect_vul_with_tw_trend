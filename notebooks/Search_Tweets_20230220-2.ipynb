{
 "cells": [
  {
   "cell_type": "code",
   "execution_count": 2,
   "id": "21735609-c623-4118-ae5e-3097b1caa769",
   "metadata": {},
   "outputs": [],
   "source": [
    "import sys\n",
    "sys.path.append('../')\n",
    "import config\n",
    "import tweepy\n",
    "import os\n",
    "import json\n",
    "import codecs\n",
    "\n",
    "import pandas as pd\n",
    "import datetime\n",
    "from datetime import datetime, timedelta\n",
    "import locale"
   ]
  },
  {
   "cell_type": "code",
   "execution_count": 3,
   "id": "b66b20de-26cc-42e0-a8fd-fa8e38499127",
   "metadata": {},
   "outputs": [],
   "source": [
    "# Clientを返す認証関数\n",
    "def auth():\n",
    "    # API KEY\n",
    "    CK = config.CK\n",
    "    CS = config.CS\n",
    "    AT = config.AT\n",
    "    AS = config.AS\n",
    "    BT = config.BT\n",
    "\n",
    "    # tweepy setting\n",
    "    # auth = tweepy.OAuthHandler(CK, CS)\n",
    "    # auth.set_access_token(AT, AS)\n",
    "    \n",
    "\n",
    "    # wait_on_rate_limit = True とするとレートリミットを確認しながら取得処理を行う\n",
    "    client = tweepy.Client(bearer_token = BT,\\\n",
    "                           consumer_key = CK,\\\n",
    "                           consumer_secret = CS,\\\n",
    "                           access_token = AT,\\\n",
    "                           access_token_secret = AS,\\\n",
    "                           wait_on_rate_limit = True)\n",
    "\n",
    "    return client"
   ]
  },
  {
   "cell_type": "code",
   "execution_count": 4,
   "id": "7456464c-9c37-4795-8470-0c6398a2c4a5",
   "metadata": {},
   "outputs": [],
   "source": [
    "# Use tweepy.Client()\n",
    "client = auth()"
   ]
  },
  {
   "cell_type": "code",
   "execution_count": 15,
   "id": "7b0dcd38-3ce9-419c-b90a-bd89db59baac",
   "metadata": {},
   "outputs": [],
   "source": [
    "# Define a search_term for searching tweets\n",
    "search_term = \"CVE\"\n",
    "# 取得したいツイート数\n",
    "limit = 50000"
   ]
  },
  {
   "cell_type": "code",
   "execution_count": 17,
   "id": "ea9dcfc3-bb19-481c-8d61-2429079c3990",
   "metadata": {},
   "outputs": [
    {
     "name": "stdout",
     "output_type": "stream",
     "text": [
      "2023-02-21 08:37:45.549600\n",
      "2023-02-19 00:00:00\n",
      "2023-02-21 00:00:00\n",
      "2023-02-19T00:00:00+09:00\n",
      "2023-02-21T00:00:00+09:00\n"
     ]
    }
   ],
   "source": [
    "# https://qiita.com/daisuke-aoki/items/30e3d6e84637326ef1da\n",
    "# 取得対象のツイートの時間幅を指定する この例では実行前日と前々日の48時間\n",
    "# iso形式のUTC時間で指定しないと正しく時間指定ができない模様。\n",
    "# 指定した時間幅に、limitで指定した件数以上のツイートがあってもlimit以上は取得しない\n",
    "now = datetime.now()\n",
    "print(now)\n",
    "start_time = now - timedelta(days=2)\n",
    "start_time = start_time.replace(hour = 0, minute = 0, second=0, microsecond=0)\n",
    "print(start_time)\n",
    "end_time = now.replace(hour = 0, minute = 0, second=0, microsecond=0)\n",
    "print(end_time)\n",
    "# now = now.replace(minute=0, second=0, microsecond=0)\n",
    "end_time_tweepy = str(end_time.isoformat()) +'+09:00'\n",
    "# start_time = now - timedelta(days=7) \n",
    "start_time_tweepy = str(start_time.isoformat())+'+09:00'\n",
    "print(start_time_tweepy)\n",
    "print(end_time_tweepy)"
   ]
  },
  {
   "cell_type": "code",
   "execution_count": 18,
   "id": "a5232870-960f-466c-8e1f-8e12dbcfbdd4",
   "metadata": {},
   "outputs": [
    {
     "name": "stdout",
     "output_type": "stream",
     "text": [
      "<class 'pandas.core.frame.DataFrame'>\n",
      "       col_0  col_1  col_2  col_3\n",
      "row_0      0      1      2      3\n",
      "row_1      4      5      6      7\n",
      "row_2      8      9     10     11\n"
     ]
    }
   ],
   "source": [
    "import numpy as np\n",
    "df = pd.DataFrame(np.arange(12).reshape(3, 4),\n",
    "                  columns=['col_0', 'col_1', 'col_2', 'col_3'],\n",
    "                  index=['row_0', 'row_1', 'row_2'])\n",
    "print(type(df))\n",
    "print(df)"
   ]
  },
  {
   "cell_type": "code",
   "execution_count": 19,
   "id": "9ae6763b-77da-402d-9886-b8d08885fd08",
   "metadata": {},
   "outputs": [
    {
     "name": "stdout",
     "output_type": "stream",
     "text": [
      "<class 'pandas.core.frame.DataFrame'>\n",
      "Index: 3 entries, row_0 to row_2\n",
      "Data columns (total 4 columns):\n",
      " #   Column  Non-Null Count  Dtype\n",
      "---  ------  --------------  -----\n",
      " 0   col_0   3 non-null      int64\n",
      " 1   col_1   3 non-null      int64\n",
      " 2   col_2   3 non-null      int64\n",
      " 3   col_3   3 non-null      int64\n",
      "dtypes: int64(4)\n",
      "memory usage: 120.0+ bytes\n"
     ]
    }
   ],
   "source": [
    "df.info()"
   ]
  },
  {
   "cell_type": "code",
   "execution_count": 20,
   "id": "c739afee-fe36-4a68-bc38-f7ca552ea356",
   "metadata": {},
   "outputs": [
    {
     "data": {
      "text/plain": [
       "(3, 4)"
      ]
     },
     "execution_count": 20,
     "metadata": {},
     "output_type": "execute_result"
    }
   ],
   "source": [
    "df.shape"
   ]
  },
  {
   "cell_type": "code",
   "execution_count": 27,
   "id": "5c4b575a-d9cf-4826-9ce5-a78d8f5da516",
   "metadata": {},
   "outputs": [
    {
     "data": {
      "text/html": [
       "<div>\n",
       "<style scoped>\n",
       "    .dataframe tbody tr th:only-of-type {\n",
       "        vertical-align: middle;\n",
       "    }\n",
       "\n",
       "    .dataframe tbody tr th {\n",
       "        vertical-align: top;\n",
       "    }\n",
       "\n",
       "    .dataframe thead th {\n",
       "        text-align: right;\n",
       "    }\n",
       "</style>\n",
       "<table border=\"1\" class=\"dataframe\">\n",
       "  <thead>\n",
       "    <tr style=\"text-align: right;\">\n",
       "      <th></th>\n",
       "      <th>created_at</th>\n",
       "      <th>id</th>\n",
       "      <th>text</th>\n",
       "      <th>author_id</th>\n",
       "      <th>edit_history_tweet_ids</th>\n",
       "      <th>public_metrics</th>\n",
       "    </tr>\n",
       "  </thead>\n",
       "  <tbody>\n",
       "    <tr>\n",
       "      <th>0</th>\n",
       "      <td>2023-02-20 14:59:15+00:00</td>\n",
       "      <td>1627684312001781763</td>\n",
       "      <td>RT @Dinosn: CVE-2022-27677: AMD Ryzen Master P...</td>\n",
       "      <td>1563876813503434752</td>\n",
       "      <td>[1627684312001781763]</td>\n",
       "      <td>{'retweet_count': 17, 'reply_count': 0, 'like_...</td>\n",
       "    </tr>\n",
       "    <tr>\n",
       "      <th>0</th>\n",
       "      <td>2023-02-20 14:58:55+00:00</td>\n",
       "      <td>1627684229315448834</td>\n",
       "      <td>$cve *Top analyst target price for next week &amp;...</td>\n",
       "      <td>1540283817176727552</td>\n",
       "      <td>[1627684229315448834]</td>\n",
       "      <td>{'retweet_count': 0, 'reply_count': 0, 'like_c...</td>\n",
       "    </tr>\n",
       "    <tr>\n",
       "      <th>0</th>\n",
       "      <td>2023-02-20 14:57:31+00:00</td>\n",
       "      <td>1627683876423274496</td>\n",
       "      <td>RT @CyberWarship: \" CVSS Scores &amp;amp; Vulnerab...</td>\n",
       "      <td>1563876813503434752</td>\n",
       "      <td>[1627683876423274496]</td>\n",
       "      <td>{'retweet_count': 4, 'reply_count': 0, 'like_c...</td>\n",
       "    </tr>\n",
       "    <tr>\n",
       "      <th>0</th>\n",
       "      <td>2023-02-20 14:51:38+00:00</td>\n",
       "      <td>1627682392965251074</td>\n",
       "      <td>RT @Haqiqatjou: Here is Roberts co writing an ...</td>\n",
       "      <td>1480099215644581889</td>\n",
       "      <td>[1627682392965251074]</td>\n",
       "      <td>{'retweet_count': 24, 'reply_count': 0, 'like_...</td>\n",
       "    </tr>\n",
       "    <tr>\n",
       "      <th>0</th>\n",
       "      <td>2023-02-20 14:50:38+00:00</td>\n",
       "      <td>1627682141696888832</td>\n",
       "      <td>RT @solminingpunk: Some of the notable flaws r...</td>\n",
       "      <td>1458981231903887360</td>\n",
       "      <td>[1627682141696888832]</td>\n",
       "      <td>{'retweet_count': 2, 'reply_count': 0, 'like_c...</td>\n",
       "    </tr>\n",
       "  </tbody>\n",
       "</table>\n",
       "</div>"
      ],
      "text/plain": [
       "                 created_at                   id  \\\n",
       "0 2023-02-20 14:59:15+00:00  1627684312001781763   \n",
       "0 2023-02-20 14:58:55+00:00  1627684229315448834   \n",
       "0 2023-02-20 14:57:31+00:00  1627683876423274496   \n",
       "0 2023-02-20 14:51:38+00:00  1627682392965251074   \n",
       "0 2023-02-20 14:50:38+00:00  1627682141696888832   \n",
       "\n",
       "                                                text            author_id  \\\n",
       "0  RT @Dinosn: CVE-2022-27677: AMD Ryzen Master P...  1563876813503434752   \n",
       "0  $cve *Top analyst target price for next week &...  1540283817176727552   \n",
       "0  RT @CyberWarship: \" CVSS Scores &amp; Vulnerab...  1563876813503434752   \n",
       "0  RT @Haqiqatjou: Here is Roberts co writing an ...  1480099215644581889   \n",
       "0  RT @solminingpunk: Some of the notable flaws r...  1458981231903887360   \n",
       "\n",
       "  edit_history_tweet_ids                                     public_metrics  \n",
       "0  [1627684312001781763]  {'retweet_count': 17, 'reply_count': 0, 'like_...  \n",
       "0  [1627684229315448834]  {'retweet_count': 0, 'reply_count': 0, 'like_c...  \n",
       "0  [1627683876423274496]  {'retweet_count': 4, 'reply_count': 0, 'like_c...  \n",
       "0  [1627682392965251074]  {'retweet_count': 24, 'reply_count': 0, 'like_...  \n",
       "0  [1627682141696888832]  {'retweet_count': 2, 'reply_count': 0, 'like_c...  "
      ]
     },
     "execution_count": 27,
     "metadata": {},
     "output_type": "execute_result"
    }
   ],
   "source": [
    "df_tweet = pd.DataFrame()\n",
    "for tweet in tweepy.Paginator(client.search_recent_tweets,\\\n",
    "                              query = search_term,\\\n",
    "                              start_time=start_time_tweepy,\\\n",
    "                              end_time=end_time_tweepy,\\\n",
    "                              tweet_fields=['id','created_at','text','author_id','public_metrics',],\\\n",
    "                              max_results = 100).flatten(limit = limit):\n",
    "    # print(type(tweet.author_id))\n",
    "    # print(tweet.author_id)\n",
    "    # print(dir(tweet.author_id))\n",
    "    # print(type(tweet.data))\n",
    "    # print(tweet.data)\n",
    "    # print(dir(tweet.data))\n",
    "    # print(pd.DataFrame({'id': pd.Series([tweet.id]),\\\n",
    "    #               'created_at':pd.Series([tweet.created_at]),\\\n",
    "    #               'author_id':pd.Series([tweet.author_id]),\\\n",
    "    #               'public_metrics':pd.Series([tweet.public_metrics]),\\\n",
    "    #               'text':pd.Series([tweet.text]),\\\n",
    "    #               'edit_history_tweet_ids':pd.Series([tweet.edit_history_tweet_ids])}\\\n",
    "    #                    ).head)\n",
    "    df_tweet = pd.concat([df_tweet, pd.DataFrame({'created_at': pd.Series([tweet.created_at]),\\\n",
    "                                                  'id': pd.Series([tweet.id]),\\\n",
    "                                                  'text': pd.Series([tweet.text]),\\\n",
    "                                                  'author_id': pd.Series([tweet.author_id]),\\\n",
    "                                                  'edit_history_tweet_ids': pd.Series([tweet.edit_history_tweet_ids]),\\\n",
    "                                                  'public_metrics': pd.Series([tweet.public_metrics])\\\n",
    "                                                 },\\\n",
    "                                                )])\n",
    "    #                                             columns = ['id', 'created_at', 'author_id', 'public_metrics', 'text', 'edit_history_tweet_ids'])\\\n",
    "    #                      ])\n",
    "\n",
    "df_tweet.head()"
   ]
  },
  {
   "cell_type": "code",
   "execution_count": 28,
   "id": "a8a9846c-34fc-453c-aaec-8b8bc9886ba3",
   "metadata": {},
   "outputs": [
    {
     "data": {
      "text/html": [
       "<div>\n",
       "<style scoped>\n",
       "    .dataframe tbody tr th:only-of-type {\n",
       "        vertical-align: middle;\n",
       "    }\n",
       "\n",
       "    .dataframe tbody tr th {\n",
       "        vertical-align: top;\n",
       "    }\n",
       "\n",
       "    .dataframe thead th {\n",
       "        text-align: right;\n",
       "    }\n",
       "</style>\n",
       "<table border=\"1\" class=\"dataframe\">\n",
       "  <thead>\n",
       "    <tr style=\"text-align: right;\">\n",
       "      <th></th>\n",
       "      <th>created_at</th>\n",
       "      <th>id</th>\n",
       "      <th>text</th>\n",
       "      <th>author_id</th>\n",
       "      <th>edit_history_tweet_ids</th>\n",
       "      <th>public_metrics</th>\n",
       "    </tr>\n",
       "  </thead>\n",
       "  <tbody>\n",
       "    <tr>\n",
       "      <th>0</th>\n",
       "      <td>2023-02-18 15:02:56+00:00</td>\n",
       "      <td>1626960464923209728</td>\n",
       "      <td>CVE-2022-39952 https://t.co/9uc2QYP28H #Harsia...</td>\n",
       "      <td>1083500716235223040</td>\n",
       "      <td>[1626960464923209728]</td>\n",
       "      <td>{'retweet_count': 0, 'reply_count': 0, 'like_c...</td>\n",
       "    </tr>\n",
       "    <tr>\n",
       "      <th>0</th>\n",
       "      <td>2023-02-18 15:02:21+00:00</td>\n",
       "      <td>1626960314318340096</td>\n",
       "      <td>RT @CVEtrends: Top 3 trending CVEs on Twitter\\...</td>\n",
       "      <td>4682904606</td>\n",
       "      <td>[1626960314318340096]</td>\n",
       "      <td>{'retweet_count': 5, 'reply_count': 0, 'like_c...</td>\n",
       "    </tr>\n",
       "    <tr>\n",
       "      <th>0</th>\n",
       "      <td>2023-02-18 15:02:14+00:00</td>\n",
       "      <td>1626960288716308485</td>\n",
       "      <td>RT @Horizon3Attack: CVE-2022-39952, announced ...</td>\n",
       "      <td>1445960112737165313</td>\n",
       "      <td>[1626960288716308485]</td>\n",
       "      <td>{'retweet_count': 380, 'reply_count': 0, 'like...</td>\n",
       "    </tr>\n",
       "    <tr>\n",
       "      <th>0</th>\n",
       "      <td>2023-02-18 15:01:56+00:00</td>\n",
       "      <td>1626960210937126912</td>\n",
       "      <td>CVE-2023-20032 https://t.co/8F9EvTp10P #Harsia...</td>\n",
       "      <td>1083500716235223040</td>\n",
       "      <td>[1626960210937126912]</td>\n",
       "      <td>{'retweet_count': 0, 'reply_count': 0, 'like_c...</td>\n",
       "    </tr>\n",
       "    <tr>\n",
       "      <th>0</th>\n",
       "      <td>2023-02-18 15:01:43+00:00</td>\n",
       "      <td>1626960156817752069</td>\n",
       "      <td>RT @Horizon3Attack: CVE-2022-39952, announced ...</td>\n",
       "      <td>1362016765</td>\n",
       "      <td>[1626960156817752069]</td>\n",
       "      <td>{'retweet_count': 380, 'reply_count': 0, 'like...</td>\n",
       "    </tr>\n",
       "  </tbody>\n",
       "</table>\n",
       "</div>"
      ],
      "text/plain": [
       "                 created_at                   id  \\\n",
       "0 2023-02-18 15:02:56+00:00  1626960464923209728   \n",
       "0 2023-02-18 15:02:21+00:00  1626960314318340096   \n",
       "0 2023-02-18 15:02:14+00:00  1626960288716308485   \n",
       "0 2023-02-18 15:01:56+00:00  1626960210937126912   \n",
       "0 2023-02-18 15:01:43+00:00  1626960156817752069   \n",
       "\n",
       "                                                text            author_id  \\\n",
       "0  CVE-2022-39952 https://t.co/9uc2QYP28H #Harsia...  1083500716235223040   \n",
       "0  RT @CVEtrends: Top 3 trending CVEs on Twitter\\...           4682904606   \n",
       "0  RT @Horizon3Attack: CVE-2022-39952, announced ...  1445960112737165313   \n",
       "0  CVE-2023-20032 https://t.co/8F9EvTp10P #Harsia...  1083500716235223040   \n",
       "0  RT @Horizon3Attack: CVE-2022-39952, announced ...           1362016765   \n",
       "\n",
       "  edit_history_tweet_ids                                     public_metrics  \n",
       "0  [1626960464923209728]  {'retweet_count': 0, 'reply_count': 0, 'like_c...  \n",
       "0  [1626960314318340096]  {'retweet_count': 5, 'reply_count': 0, 'like_c...  \n",
       "0  [1626960288716308485]  {'retweet_count': 380, 'reply_count': 0, 'like...  \n",
       "0  [1626960210937126912]  {'retweet_count': 0, 'reply_count': 0, 'like_c...  \n",
       "0  [1626960156817752069]  {'retweet_count': 380, 'reply_count': 0, 'like...  "
      ]
     },
     "execution_count": 28,
     "metadata": {},
     "output_type": "execute_result"
    }
   ],
   "source": [
    "df_tweet.tail()"
   ]
  },
  {
   "cell_type": "code",
   "execution_count": 29,
   "id": "d971baeb-a274-4cb7-a737-e654ddae8041",
   "metadata": {},
   "outputs": [
    {
     "name": "stdout",
     "output_type": "stream",
     "text": [
      "20230219-20230221\n"
     ]
    }
   ],
   "source": [
    "filename = start_time.strftime(\"%Y%m%d\") + \"-\" + end_time.strftime(\"%Y%m%d\") \n",
    "print(filename)"
   ]
  },
  {
   "cell_type": "code",
   "execution_count": 30,
   "id": "a387d6ea-44cc-4980-bf80-6dcdf0cbd372",
   "metadata": {},
   "outputs": [],
   "source": [
    "df_tweet.to_csv(filename + \".csv\", index=False,header=True)"
   ]
  },
  {
   "cell_type": "code",
   "execution_count": null,
   "id": "d50a7bfc-d2d1-45c2-a8cc-b32ab505faf0",
   "metadata": {},
   "outputs": [],
   "source": []
  }
 ],
 "metadata": {
  "kernelspec": {
   "display_name": "Python 3 (ipykernel)",
   "language": "python",
   "name": "python3"
  },
  "language_info": {
   "codemirror_mode": {
    "name": "ipython",
    "version": 3
   },
   "file_extension": ".py",
   "mimetype": "text/x-python",
   "name": "python",
   "nbconvert_exporter": "python",
   "pygments_lexer": "ipython3",
   "version": "3.10.8"
  }
 },
 "nbformat": 4,
 "nbformat_minor": 5
}
