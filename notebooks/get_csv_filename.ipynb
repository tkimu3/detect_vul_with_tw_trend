{
 "cells": [
  {
   "cell_type": "code",
   "execution_count": 82,
   "id": "9de79bd3-e931-435b-bef1-3731bb8aaa93",
   "metadata": {},
   "outputs": [],
   "source": [
    "import pandas as pd\n",
    "from pathlib import Path\n",
    "from datetime import datetime\n",
    "\n",
    "# get current path\n",
    "path = Path('.')\n",
    "\n",
    "# Define file type to read\n",
    "file_name = '*.csv'\n",
    "\n",
    "# csv file paths to read\n",
    "csv_filepaths = path.glob(file_name)\n",
    "\n",
    "# create a new DataFrame\n",
    "df = pd.DataFrame()\n",
    "\n",
    "# create a new DataFrame for storing dataframe temporarily\n",
    "df_tmp = pd.DataFrame()"
   ]
  },
  {
   "cell_type": "code",
   "execution_count": 83,
   "id": "cb3185e7-2235-4c05-af63-0a0d95cd88ee",
   "metadata": {},
   "outputs": [
    {
     "name": "stdout",
     "output_type": "stream",
     "text": [
      "20230305-20230310.csv\n",
      "20230219-20230220.csv\n",
      "20230228-20230304.csv\n",
      "20230213-20230218.csv\n",
      "all.csv\n",
      "20230311-20230315.csv\n",
      "all_20230315.csv\n",
      "20230316-20230321.csv\n",
      "20230227-20230227.csv\n",
      "20230207-20230212.csv\n",
      "20230221-20230226.csv\n"
     ]
    }
   ],
   "source": [
    "for csv_file in csv_filepaths:\n",
    "    print(csv_file)"
   ]
  },
  {
   "cell_type": "code",
   "execution_count": 84,
   "id": "0182a372-90de-4d5a-b06f-7228acbc6e60",
   "metadata": {},
   "outputs": [],
   "source": [
    "import pandas as pd\n",
    "from pathlib import Path\n",
    "from datetime import datetime\n",
    "import re\n",
    "\n",
    "# get current path\n",
    "path = Path('.')\n",
    "\n",
    "# Define file type to read\n",
    "file_name = '*.csv'\n",
    "\n",
    "# csv file paths to read\n",
    "csv_filepaths = path.glob(file_name)\n",
    "\n",
    "# create a new DataFrame\n",
    "df = pd.DataFrame()\n",
    "\n",
    "# create a new DataFrame for storing dataframe temporarily\n",
    "df_tmp = pd.DataFrame()"
   ]
  },
  {
   "cell_type": "code",
   "execution_count": 85,
   "id": "87882c29-ff29-4eb8-b281-42a5c4760304",
   "metadata": {},
   "outputs": [
    {
     "name": "stdout",
     "output_type": "stream",
     "text": [
      "20230310\n",
      "2023-03-10\n",
      "20230220\n",
      "2023-03-10\n",
      "20230304\n",
      "2023-03-10\n",
      "20230218\n",
      "2023-03-10\n",
      "20230315\n",
      "2023-03-15\n",
      "20230321\n",
      "2023-03-21\n",
      "20230227\n",
      "2023-03-21\n",
      "20230212\n",
      "2023-03-21\n",
      "20230226\n",
      "2023-03-21\n",
      "20230321\n"
     ]
    }
   ],
   "source": [
    "end_date = None\n",
    "for csv_file in csv_filepaths:\n",
    "    # https://note.nkmk.me/python-re-match-object-span-group/\n",
    "    m = re.match(r'[0-9]{8}\\-[0-9]{8}', str(csv_file))\n",
    "    # print(m)\n",
    "    if m:\n",
    "        # print(m.group())\n",
    "        # https://python-academia.com/file-extract/\n",
    "        m_2nd = m.group().split('-')[1]\n",
    "        print(m_2nd)\n",
    "    \n",
    "        #https://teratail.com/questions/266301\n",
    "        end_date_candidate = datetime.strptime(m_2nd, '%Y%m%d').date()\n",
    "        if end_date:\n",
    "            if end_date < end_date_candidate:\n",
    "                end_date = end_date_candidate\n",
    "\n",
    "        else:\n",
    "            end_date = end_date_candidate\n",
    "        print(end_date)\n",
    "filename_date = datetime.strftime(end_date, '%Y%m%d')\n",
    "print(filename_date)\n"
   ]
  },
  {
   "cell_type": "code",
   "execution_count": null,
   "id": "ee29b8f3-f2d2-4fd8-bb5e-14a06165813b",
   "metadata": {},
   "outputs": [],
   "source": []
  }
 ],
 "metadata": {
  "kernelspec": {
   "display_name": "Python 3 (ipykernel)",
   "language": "python",
   "name": "python3"
  },
  "language_info": {
   "codemirror_mode": {
    "name": "ipython",
    "version": 3
   },
   "file_extension": ".py",
   "mimetype": "text/x-python",
   "name": "python",
   "nbconvert_exporter": "python",
   "pygments_lexer": "ipython3",
   "version": "3.10.8"
  }
 },
 "nbformat": 4,
 "nbformat_minor": 5
}
