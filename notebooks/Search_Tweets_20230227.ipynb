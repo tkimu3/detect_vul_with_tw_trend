{
 "cells": [
  {
   "cell_type": "code",
   "execution_count": 20,
   "id": "21735609-c623-4118-ae5e-3097b1caa769",
   "metadata": {},
   "outputs": [],
   "source": [
    "import sys\n",
    "sys.path.append('../')\n",
    "import config\n",
    "import tweepy\n",
    "import os\n",
    "import json\n",
    "import codecs\n",
    "\n",
    "import pandas as pd\n",
    "import datetime\n",
    "from datetime import datetime, timedelta, timezone\n",
    "import locale"
   ]
  },
  {
   "cell_type": "code",
   "execution_count": 2,
   "id": "b66b20de-26cc-42e0-a8fd-fa8e38499127",
   "metadata": {},
   "outputs": [],
   "source": [
    "# Clientを返す認証関数\n",
    "def auth():\n",
    "    # API KEY\n",
    "    CK = config.CK\n",
    "    CS = config.CS\n",
    "    AT = config.AT\n",
    "    AS = config.AS\n",
    "    BT = config.BT\n",
    "\n",
    "    # tweepy setting\n",
    "    # auth = tweepy.OAuthHandler(CK, CS)\n",
    "    # auth.set_access_token(AT, AS)\n",
    "    \n",
    "\n",
    "    # wait_on_rate_limit = True とするとレートリミットを確認しながら取得処理を行う\n",
    "    client = tweepy.Client(bearer_token = BT,\\\n",
    "                           consumer_key = CK,\\\n",
    "                           consumer_secret = CS,\\\n",
    "                           access_token = AT,\\\n",
    "                           access_token_secret = AS,\\\n",
    "                           wait_on_rate_limit = True)\n",
    "\n",
    "    return client"
   ]
  },
  {
   "cell_type": "code",
   "execution_count": 3,
   "id": "7456464c-9c37-4795-8470-0c6398a2c4a5",
   "metadata": {},
   "outputs": [],
   "source": [
    "# Use tweepy.Client()\n",
    "client = auth()"
   ]
  },
  {
   "cell_type": "code",
   "execution_count": 4,
   "id": "7b0dcd38-3ce9-419c-b90a-bd89db59baac",
   "metadata": {},
   "outputs": [],
   "source": [
    "# Define a search_term for searching tweets\n",
    "search_term = \"CVE\"\n",
    "# 取得したいツイート数\n",
    "limit = 50000"
   ]
  },
  {
   "cell_type": "code",
   "execution_count": 5,
   "id": "ea9dcfc3-bb19-481c-8d61-2429079c3990",
   "metadata": {},
   "outputs": [
    {
     "name": "stdout",
     "output_type": "stream",
     "text": [
      "2023-02-27 10:21:45.106586\n",
      "2023-02-21 00:00:00\n",
      "2023-02-27 00:00:00\n",
      "2023-02-21T00:00:00+09:00\n",
      "2023-02-27T00:00:00+09:00\n"
     ]
    }
   ],
   "source": [
    "# https://qiita.com/daisuke-aoki/items/30e3d6e84637326ef1da\n",
    "# 取得対象のツイートの時間幅を指定する この例では実行前日と前々日の48時間\n",
    "# iso形式のUTC時間で指定しないと正しく時間指定ができない模様。\n",
    "# 指定した時間幅に、limitで指定した件数以上のツイートがあってもlimit以上は取得しない\n",
    "now = datetime.now()\n",
    "print(now)\n",
    "start_time = now - timedelta(days=6)\n",
    "start_time = start_time.replace(hour = 0, minute = 0, second=0, microsecond=0)\n",
    "print(start_time)\n",
    "end_time = now.replace(hour = 0, minute = 0, second=0, microsecond=0)\n",
    "print(end_time)\n",
    "# now = now.replace(minute=0, second=0, microsecond=0)\n",
    "end_time_tweepy = str(end_time.isoformat()) +'+09:00'\n",
    "# start_time = now - timedelta(days=7) \n",
    "start_time_tweepy = str(start_time.isoformat())+'+09:00'\n",
    "print(start_time_tweepy)\n",
    "print(end_time_tweepy)"
   ]
  },
  {
   "cell_type": "code",
   "execution_count": 6,
   "id": "a5232870-960f-466c-8e1f-8e12dbcfbdd4",
   "metadata": {},
   "outputs": [
    {
     "name": "stdout",
     "output_type": "stream",
     "text": [
      "<class 'pandas.core.frame.DataFrame'>\n",
      "       col_0  col_1  col_2  col_3\n",
      "row_0      0      1      2      3\n",
      "row_1      4      5      6      7\n",
      "row_2      8      9     10     11\n"
     ]
    }
   ],
   "source": [
    "import numpy as np\n",
    "df = pd.DataFrame(np.arange(12).reshape(3, 4),\n",
    "                  columns=['col_0', 'col_1', 'col_2', 'col_3'],\n",
    "                  index=['row_0', 'row_1', 'row_2'])\n",
    "print(type(df))\n",
    "print(df)"
   ]
  },
  {
   "cell_type": "code",
   "execution_count": 7,
   "id": "9ae6763b-77da-402d-9886-b8d08885fd08",
   "metadata": {},
   "outputs": [
    {
     "name": "stdout",
     "output_type": "stream",
     "text": [
      "<class 'pandas.core.frame.DataFrame'>\n",
      "Index: 3 entries, row_0 to row_2\n",
      "Data columns (total 4 columns):\n",
      " #   Column  Non-Null Count  Dtype\n",
      "---  ------  --------------  -----\n",
      " 0   col_0   3 non-null      int64\n",
      " 1   col_1   3 non-null      int64\n",
      " 2   col_2   3 non-null      int64\n",
      " 3   col_3   3 non-null      int64\n",
      "dtypes: int64(4)\n",
      "memory usage: 120.0+ bytes\n"
     ]
    }
   ],
   "source": [
    "df.info()"
   ]
  },
  {
   "cell_type": "code",
   "execution_count": 8,
   "id": "c739afee-fe36-4a68-bc38-f7ca552ea356",
   "metadata": {},
   "outputs": [
    {
     "data": {
      "text/plain": [
       "(3, 4)"
      ]
     },
     "execution_count": 8,
     "metadata": {},
     "output_type": "execute_result"
    }
   ],
   "source": [
    "df.shape"
   ]
  },
  {
   "cell_type": "code",
   "execution_count": 9,
   "id": "5c4b575a-d9cf-4826-9ce5-a78d8f5da516",
   "metadata": {},
   "outputs": [
    {
     "data": {
      "text/html": [
       "<div>\n",
       "<style scoped>\n",
       "    .dataframe tbody tr th:only-of-type {\n",
       "        vertical-align: middle;\n",
       "    }\n",
       "\n",
       "    .dataframe tbody tr th {\n",
       "        vertical-align: top;\n",
       "    }\n",
       "\n",
       "    .dataframe thead th {\n",
       "        text-align: right;\n",
       "    }\n",
       "</style>\n",
       "<table border=\"1\" class=\"dataframe\">\n",
       "  <thead>\n",
       "    <tr style=\"text-align: right;\">\n",
       "      <th></th>\n",
       "      <th>created_at</th>\n",
       "      <th>id</th>\n",
       "      <th>text</th>\n",
       "      <th>author_id</th>\n",
       "      <th>edit_history_tweet_ids</th>\n",
       "      <th>public_metrics</th>\n",
       "    </tr>\n",
       "  </thead>\n",
       "  <tbody>\n",
       "    <tr>\n",
       "      <th>0</th>\n",
       "      <td>2023-02-26 14:57:01+00:00</td>\n",
       "      <td>1629858076336463872</td>\n",
       "      <td>@SantiMendezz16 Me han venido los fantasmas de...</td>\n",
       "      <td>1312439595225812993</td>\n",
       "      <td>[1629858076336463872]</td>\n",
       "      <td>{'retweet_count': 0, 'reply_count': 1, 'like_c...</td>\n",
       "    </tr>\n",
       "    <tr>\n",
       "      <th>0</th>\n",
       "      <td>2023-02-26 14:55:35+00:00</td>\n",
       "      <td>1629857717144940544</td>\n",
       "      <td>$CVE \"ALL THESE LEVELS POSTED AHEAD OF TIME BE...</td>\n",
       "      <td>1543925643284324352</td>\n",
       "      <td>[1629857717144940544]</td>\n",
       "      <td>{'retweet_count': 0, 'reply_count': 0, 'like_c...</td>\n",
       "    </tr>\n",
       "    <tr>\n",
       "      <th>0</th>\n",
       "      <td>2023-02-26 14:53:24+00:00</td>\n",
       "      <td>1629857166155980802</td>\n",
       "      <td>$CVE \"ALL THESE LEVELS POSTED AHEAD OF TIME BE...</td>\n",
       "      <td>1543925643284324352</td>\n",
       "      <td>[1629857166155980802]</td>\n",
       "      <td>{'retweet_count': 0, 'reply_count': 0, 'like_c...</td>\n",
       "    </tr>\n",
       "    <tr>\n",
       "      <th>0</th>\n",
       "      <td>2023-02-26 14:48:05+00:00</td>\n",
       "      <td>1629855828952899586</td>\n",
       "      <td>RT @elisahategan: Please check out my new arti...</td>\n",
       "      <td>1410559658096574466</td>\n",
       "      <td>[1629855828952899586]</td>\n",
       "      <td>{'retweet_count': 22, 'reply_count': 0, 'like_...</td>\n",
       "    </tr>\n",
       "    <tr>\n",
       "      <th>0</th>\n",
       "      <td>2023-02-26 14:46:04+00:00</td>\n",
       "      <td>1629855320133496832</td>\n",
       "      <td>RT @garquake: Another nice week for CDN Oil pr...</td>\n",
       "      <td>540922293</td>\n",
       "      <td>[1629855320133496832]</td>\n",
       "      <td>{'retweet_count': 7, 'reply_count': 0, 'like_c...</td>\n",
       "    </tr>\n",
       "  </tbody>\n",
       "</table>\n",
       "</div>"
      ],
      "text/plain": [
       "                 created_at                   id  \\\n",
       "0 2023-02-26 14:57:01+00:00  1629858076336463872   \n",
       "0 2023-02-26 14:55:35+00:00  1629857717144940544   \n",
       "0 2023-02-26 14:53:24+00:00  1629857166155980802   \n",
       "0 2023-02-26 14:48:05+00:00  1629855828952899586   \n",
       "0 2023-02-26 14:46:04+00:00  1629855320133496832   \n",
       "\n",
       "                                                text            author_id  \\\n",
       "0  @SantiMendezz16 Me han venido los fantasmas de...  1312439595225812993   \n",
       "0  $CVE \"ALL THESE LEVELS POSTED AHEAD OF TIME BE...  1543925643284324352   \n",
       "0  $CVE \"ALL THESE LEVELS POSTED AHEAD OF TIME BE...  1543925643284324352   \n",
       "0  RT @elisahategan: Please check out my new arti...  1410559658096574466   \n",
       "0  RT @garquake: Another nice week for CDN Oil pr...            540922293   \n",
       "\n",
       "  edit_history_tweet_ids                                     public_metrics  \n",
       "0  [1629858076336463872]  {'retweet_count': 0, 'reply_count': 1, 'like_c...  \n",
       "0  [1629857717144940544]  {'retweet_count': 0, 'reply_count': 0, 'like_c...  \n",
       "0  [1629857166155980802]  {'retweet_count': 0, 'reply_count': 0, 'like_c...  \n",
       "0  [1629855828952899586]  {'retweet_count': 22, 'reply_count': 0, 'like_...  \n",
       "0  [1629855320133496832]  {'retweet_count': 7, 'reply_count': 0, 'like_c...  "
      ]
     },
     "execution_count": 9,
     "metadata": {},
     "output_type": "execute_result"
    }
   ],
   "source": [
    "df_tweet = pd.DataFrame()\n",
    "for tweet in tweepy.Paginator(client.search_recent_tweets,\\\n",
    "                              query = search_term,\\\n",
    "                              start_time=start_time_tweepy,\\\n",
    "                              end_time=end_time_tweepy,\\\n",
    "                              tweet_fields=['id','created_at','text','author_id','public_metrics',],\\\n",
    "                              max_results = 100).flatten(limit = limit):\n",
    "    # print(type(tweet.author_id))\n",
    "    # print(tweet.author_id)\n",
    "    # print(dir(tweet.author_id))\n",
    "    # print(type(tweet.data))\n",
    "    # print(tweet.data)\n",
    "    # print(dir(tweet.data))\n",
    "    # print(pd.DataFrame({'id': pd.Series([tweet.id]),\\\n",
    "    #               'created_at':pd.Series([tweet.created_at]),\\\n",
    "    #               'author_id':pd.Series([tweet.author_id]),\\\n",
    "    #               'public_metrics':pd.Series([tweet.public_metrics]),\\\n",
    "    #               'text':pd.Series([tweet.text]),\\\n",
    "    #               'edit_history_tweet_ids':pd.Series([tweet.edit_history_tweet_ids])}\\\n",
    "    #                    ).head)\n",
    "    df_tweet = pd.concat([df_tweet, pd.DataFrame({'created_at': pd.Series([tweet.created_at]),\\\n",
    "                                                  'id': pd.Series([tweet.id]),\\\n",
    "                                                  'text': pd.Series([tweet.text]),\\\n",
    "                                                  'author_id': pd.Series([tweet.author_id]),\\\n",
    "                                                  'edit_history_tweet_ids': pd.Series([tweet.edit_history_tweet_ids]),\\\n",
    "                                                  'public_metrics': pd.Series([tweet.public_metrics])\\\n",
    "                                                 },\\\n",
    "                                                )])\n",
    "    #                                             columns = ['id', 'created_at', 'author_id', 'public_metrics', 'text', 'edit_history_tweet_ids'])\\\n",
    "    #                      ])\n",
    "\n",
    "df_tweet.head()"
   ]
  },
  {
   "cell_type": "code",
   "execution_count": 10,
   "id": "a8a9846c-34fc-453c-aaec-8b8bc9886ba3",
   "metadata": {},
   "outputs": [
    {
     "data": {
      "text/html": [
       "<div>\n",
       "<style scoped>\n",
       "    .dataframe tbody tr th:only-of-type {\n",
       "        vertical-align: middle;\n",
       "    }\n",
       "\n",
       "    .dataframe tbody tr th {\n",
       "        vertical-align: top;\n",
       "    }\n",
       "\n",
       "    .dataframe thead th {\n",
       "        text-align: right;\n",
       "    }\n",
       "</style>\n",
       "<table border=\"1\" class=\"dataframe\">\n",
       "  <thead>\n",
       "    <tr style=\"text-align: right;\">\n",
       "      <th></th>\n",
       "      <th>created_at</th>\n",
       "      <th>id</th>\n",
       "      <th>text</th>\n",
       "      <th>author_id</th>\n",
       "      <th>edit_history_tweet_ids</th>\n",
       "      <th>public_metrics</th>\n",
       "    </tr>\n",
       "  </thead>\n",
       "  <tbody>\n",
       "    <tr>\n",
       "      <th>0</th>\n",
       "      <td>2023-02-20 15:03:01+00:00</td>\n",
       "      <td>1627685258719027207</td>\n",
       "      <td>Admins, patch your Cisco enterprise security s...</td>\n",
       "      <td>14886151</td>\n",
       "      <td>[1627685258719027207]</td>\n",
       "      <td>{'retweet_count': 0, 'reply_count': 0, 'like_c...</td>\n",
       "    </tr>\n",
       "    <tr>\n",
       "      <th>0</th>\n",
       "      <td>2023-02-20 15:02:10+00:00</td>\n",
       "      <td>1627685045782876161</td>\n",
       "      <td>CVE-2022-39952 https://t.co/9uc2QYP28H #Harsia...</td>\n",
       "      <td>1083500716235223040</td>\n",
       "      <td>[1627685045782876161]</td>\n",
       "      <td>{'retweet_count': 0, 'reply_count': 0, 'like_c...</td>\n",
       "    </tr>\n",
       "    <tr>\n",
       "      <th>0</th>\n",
       "      <td>2023-02-20 15:01:10+00:00</td>\n",
       "      <td>1627684792363024391</td>\n",
       "      <td>CVE-2022-1613 https://t.co/3RiHtWk8y1 #HarsiaInfo</td>\n",
       "      <td>1083500716235223040</td>\n",
       "      <td>[1627684792363024391]</td>\n",
       "      <td>{'retweet_count': 0, 'reply_count': 0, 'like_c...</td>\n",
       "    </tr>\n",
       "    <tr>\n",
       "      <th>0</th>\n",
       "      <td>2023-02-20 15:00:51+00:00</td>\n",
       "      <td>1627684713274941440</td>\n",
       "      <td>RT @go_ethereum: Geth version v1.9.24 has been...</td>\n",
       "      <td>769668426</td>\n",
       "      <td>[1627684713274941440]</td>\n",
       "      <td>{'retweet_count': 274, 'reply_count': 0, 'like...</td>\n",
       "    </tr>\n",
       "    <tr>\n",
       "      <th>0</th>\n",
       "      <td>2023-02-20 15:00:06+00:00</td>\n",
       "      <td>1627684525672402947</td>\n",
       "      <td>RT @Raj_Samani: We have posted analysis of CVE...</td>\n",
       "      <td>3090317304</td>\n",
       "      <td>[1627684525672402947]</td>\n",
       "      <td>{'retweet_count': 8, 'reply_count': 0, 'like_c...</td>\n",
       "    </tr>\n",
       "  </tbody>\n",
       "</table>\n",
       "</div>"
      ],
      "text/plain": [
       "                 created_at                   id  \\\n",
       "0 2023-02-20 15:03:01+00:00  1627685258719027207   \n",
       "0 2023-02-20 15:02:10+00:00  1627685045782876161   \n",
       "0 2023-02-20 15:01:10+00:00  1627684792363024391   \n",
       "0 2023-02-20 15:00:51+00:00  1627684713274941440   \n",
       "0 2023-02-20 15:00:06+00:00  1627684525672402947   \n",
       "\n",
       "                                                text            author_id  \\\n",
       "0  Admins, patch your Cisco enterprise security s...             14886151   \n",
       "0  CVE-2022-39952 https://t.co/9uc2QYP28H #Harsia...  1083500716235223040   \n",
       "0  CVE-2022-1613 https://t.co/3RiHtWk8y1 #HarsiaInfo  1083500716235223040   \n",
       "0  RT @go_ethereum: Geth version v1.9.24 has been...            769668426   \n",
       "0  RT @Raj_Samani: We have posted analysis of CVE...           3090317304   \n",
       "\n",
       "  edit_history_tweet_ids                                     public_metrics  \n",
       "0  [1627685258719027207]  {'retweet_count': 0, 'reply_count': 0, 'like_c...  \n",
       "0  [1627685045782876161]  {'retweet_count': 0, 'reply_count': 0, 'like_c...  \n",
       "0  [1627684792363024391]  {'retweet_count': 0, 'reply_count': 0, 'like_c...  \n",
       "0  [1627684713274941440]  {'retweet_count': 274, 'reply_count': 0, 'like...  \n",
       "0  [1627684525672402947]  {'retweet_count': 8, 'reply_count': 0, 'like_c...  "
      ]
     },
     "execution_count": 10,
     "metadata": {},
     "output_type": "execute_result"
    }
   ],
   "source": [
    "df_tweet.tail()"
   ]
  },
  {
   "cell_type": "code",
   "execution_count": 11,
   "id": "d971baeb-a274-4cb7-a737-e654ddae8041",
   "metadata": {},
   "outputs": [
    {
     "name": "stdout",
     "output_type": "stream",
     "text": [
      "20230221-20230227\n"
     ]
    }
   ],
   "source": [
    "filename = start_time.strftime(\"%Y%m%d\") + \"-\" + end_time.strftime(\"%Y%m%d\") \n",
    "print(filename)"
   ]
  },
  {
   "cell_type": "code",
   "execution_count": 12,
   "id": "a387d6ea-44cc-4980-bf80-6dcdf0cbd372",
   "metadata": {},
   "outputs": [],
   "source": [
    "df_tweet.to_csv(filename + \".csv\", index=False,header=True)"
   ]
  },
  {
   "cell_type": "code",
   "execution_count": 13,
   "id": "d50a7bfc-d2d1-45c2-a8cc-b32ab505faf0",
   "metadata": {},
   "outputs": [
    {
     "name": "stdout",
     "output_type": "stream",
     "text": [
      "13769\n"
     ]
    }
   ],
   "source": [
    "print(len(df_tweet))"
   ]
  },
  {
   "cell_type": "code",
   "execution_count": 14,
   "id": "1001ac40-97c5-4c3d-b3df-e581b9a69d41",
   "metadata": {},
   "outputs": [
    {
     "name": "stdout",
     "output_type": "stream",
     "text": [
      "2023-02-27 23:22:38.120110\n"
     ]
    }
   ],
   "source": [
    "print(datetime.now())"
   ]
  },
  {
   "cell_type": "code",
   "execution_count": 15,
   "id": "6a38affd-10cf-45db-b3d8-fbc5d91bc928",
   "metadata": {},
   "outputs": [
    {
     "name": "stdout",
     "output_type": "stream",
     "text": [
      "2023-02-27 23:23:05.399105\n"
     ]
    }
   ],
   "source": [
    "print(datetime.utcnow())"
   ]
  },
  {
   "cell_type": "code",
   "execution_count": 16,
   "id": "a9f61d18-59a5-4feb-be8c-a72a9a81f0ef",
   "metadata": {},
   "outputs": [
    {
     "name": "stdout",
     "output_type": "stream",
     "text": [
      "2023-02-27T23:23:53.074576\n"
     ]
    }
   ],
   "source": [
    "print(datetime.now().isoformat())"
   ]
  },
  {
   "cell_type": "code",
   "execution_count": 22,
   "id": "7e61c8a3-24e0-4b57-ad79-42214ebe8f9a",
   "metadata": {},
   "outputs": [
    {
     "name": "stdout",
     "output_type": "stream",
     "text": [
      "2023-02-28 08:32:56.744387+09:00\n"
     ]
    }
   ],
   "source": [
    "print(datetime.now(tz=timezone(timedelta(hours=9))))"
   ]
  },
  {
   "cell_type": "code",
   "execution_count": 24,
   "id": "37fc17e7-0765-4626-8c98-48c7323d85f2",
   "metadata": {},
   "outputs": [
    {
     "name": "stdout",
     "output_type": "stream",
     "text": [
      "2023-02-28T08:34:14.673954+09:00\n"
     ]
    }
   ],
   "source": [
    "print(datetime.now(tz=timezone(timedelta(hours=9))).isoformat())"
   ]
  }
 ],
 "metadata": {
  "kernelspec": {
   "display_name": "Python 3 (ipykernel)",
   "language": "python",
   "name": "python3"
  },
  "language_info": {
   "codemirror_mode": {
    "name": "ipython",
    "version": 3
   },
   "file_extension": ".py",
   "mimetype": "text/x-python",
   "name": "python",
   "nbconvert_exporter": "python",
   "pygments_lexer": "ipython3",
   "version": "3.10.8"
  }
 },
 "nbformat": 4,
 "nbformat_minor": 5
}
