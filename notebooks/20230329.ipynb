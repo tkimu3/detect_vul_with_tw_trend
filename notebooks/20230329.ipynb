{
 "cells": [
  {
   "cell_type": "code",
   "execution_count": 64,
   "id": "6dbddf67-4564-40d5-9515-6471fea82696",
   "metadata": {},
   "outputs": [],
   "source": [
    "import pandas as pd"
   ]
  },
  {
   "cell_type": "code",
   "execution_count": 65,
   "id": "0e032d32-9c57-40a2-be22-c0179928bf6b",
   "metadata": {},
   "outputs": [],
   "source": [
    "df = pd.read_csv(\"95012IncludingCVEs_20230326.csv\")"
   ]
  },
  {
   "cell_type": "code",
   "execution_count": 66,
   "id": "424989f2-07ff-4b57-8835-1fc4e16d76b2",
   "metadata": {},
   "outputs": [
    {
     "data": {
      "text/html": [
       "<div>\n",
       "<style scoped>\n",
       "    .dataframe tbody tr th:only-of-type {\n",
       "        vertical-align: middle;\n",
       "    }\n",
       "\n",
       "    .dataframe tbody tr th {\n",
       "        vertical-align: top;\n",
       "    }\n",
       "\n",
       "    .dataframe thead th {\n",
       "        text-align: right;\n",
       "    }\n",
       "</style>\n",
       "<table border=\"1\" class=\"dataframe\">\n",
       "  <thead>\n",
       "    <tr style=\"text-align: right;\">\n",
       "      <th></th>\n",
       "      <th>created_at</th>\n",
       "      <th>id</th>\n",
       "      <th>text</th>\n",
       "      <th>author_id</th>\n",
       "      <th>edit_history_tweet_ids</th>\n",
       "      <th>public_metrics</th>\n",
       "      <th>CVE</th>\n",
       "    </tr>\n",
       "  </thead>\n",
       "  <tbody>\n",
       "    <tr>\n",
       "      <th>0</th>\n",
       "      <td>2023-02-06T15:00:04.000Z</td>\n",
       "      <td>1622611085894328322</td>\n",
       "      <td>Docker Full Privilege Escalation (#CVE-2022-25...</td>\n",
       "      <td>4.365682e+08</td>\n",
       "      <td>['1622611085894328322']</td>\n",
       "      <td>{'retweet_count': 0, 'reply_count': 0, 'like_c...</td>\n",
       "      <td>CVE-2022-25365</td>\n",
       "    </tr>\n",
       "    <tr>\n",
       "      <th>1</th>\n",
       "      <td>2023-02-06T15:00:35.000Z</td>\n",
       "      <td>1622611217725399042</td>\n",
       "      <td>RT @0xor0ne: CVE-2021-27365: analysis and expl...</td>\n",
       "      <td>1.949128e+07</td>\n",
       "      <td>['1622611217725399042']</td>\n",
       "      <td>{'retweet_count': 107, 'reply_count': 0, 'like...</td>\n",
       "      <td>CVE-2021-27365</td>\n",
       "    </tr>\n",
       "    <tr>\n",
       "      <th>2</th>\n",
       "      <td>2023-02-06T15:01:32.000Z</td>\n",
       "      <td>1622611455823732736</td>\n",
       "      <td>CVE-2021-21974 https://t.co/OqV4Ki8gRI #Harsia...</td>\n",
       "      <td>1.083501e+18</td>\n",
       "      <td>['1622611455823732736']</td>\n",
       "      <td>{'retweet_count': 0, 'reply_count': 0, 'like_c...</td>\n",
       "      <td>CVE-2021-21974</td>\n",
       "    </tr>\n",
       "    <tr>\n",
       "      <th>3</th>\n",
       "      <td>2023-02-06T15:02:17.000Z</td>\n",
       "      <td>1622611643040423939</td>\n",
       "      <td>RT @SecurityBDog: Is CVE-2022-42889 important ...</td>\n",
       "      <td>1.359569e+18</td>\n",
       "      <td>['1622611643040423939']</td>\n",
       "      <td>{'retweet_count': 2, 'reply_count': 0, 'like_c...</td>\n",
       "      <td>CVE-2022-42889</td>\n",
       "    </tr>\n",
       "    <tr>\n",
       "      <th>4</th>\n",
       "      <td>2023-02-06T15:02:32.000Z</td>\n",
       "      <td>1622611709390389248</td>\n",
       "      <td>CVE-2017-2997 https://t.co/lC3cUVrBN9 #HarsiaInfo</td>\n",
       "      <td>1.083501e+18</td>\n",
       "      <td>['1622611709390389248']</td>\n",
       "      <td>{'retweet_count': 0, 'reply_count': 0, 'like_c...</td>\n",
       "      <td>CVE-2017-2997</td>\n",
       "    </tr>\n",
       "  </tbody>\n",
       "</table>\n",
       "</div>"
      ],
      "text/plain": [
       "                 created_at                   id  \\\n",
       "0  2023-02-06T15:00:04.000Z  1622611085894328322   \n",
       "1  2023-02-06T15:00:35.000Z  1622611217725399042   \n",
       "2  2023-02-06T15:01:32.000Z  1622611455823732736   \n",
       "3  2023-02-06T15:02:17.000Z  1622611643040423939   \n",
       "4  2023-02-06T15:02:32.000Z  1622611709390389248   \n",
       "\n",
       "                                                text     author_id  \\\n",
       "0  Docker Full Privilege Escalation (#CVE-2022-25...  4.365682e+08   \n",
       "1  RT @0xor0ne: CVE-2021-27365: analysis and expl...  1.949128e+07   \n",
       "2  CVE-2021-21974 https://t.co/OqV4Ki8gRI #Harsia...  1.083501e+18   \n",
       "3  RT @SecurityBDog: Is CVE-2022-42889 important ...  1.359569e+18   \n",
       "4  CVE-2017-2997 https://t.co/lC3cUVrBN9 #HarsiaInfo  1.083501e+18   \n",
       "\n",
       "    edit_history_tweet_ids                                     public_metrics  \\\n",
       "0  ['1622611085894328322']  {'retweet_count': 0, 'reply_count': 0, 'like_c...   \n",
       "1  ['1622611217725399042']  {'retweet_count': 107, 'reply_count': 0, 'like...   \n",
       "2  ['1622611455823732736']  {'retweet_count': 0, 'reply_count': 0, 'like_c...   \n",
       "3  ['1622611643040423939']  {'retweet_count': 2, 'reply_count': 0, 'like_c...   \n",
       "4  ['1622611709390389248']  {'retweet_count': 0, 'reply_count': 0, 'like_c...   \n",
       "\n",
       "              CVE  \n",
       "0  CVE-2022-25365  \n",
       "1  CVE-2021-27365  \n",
       "2  CVE-2021-21974  \n",
       "3  CVE-2022-42889  \n",
       "4   CVE-2017-2997  "
      ]
     },
     "execution_count": 66,
     "metadata": {},
     "output_type": "execute_result"
    }
   ],
   "source": [
    "df.head()"
   ]
  },
  {
   "cell_type": "code",
   "execution_count": 67,
   "id": "a8cdbed1-d289-492b-bf74-c6abb8e94fe0",
   "metadata": {},
   "outputs": [
    {
     "data": {
      "text/plain": [
       "95012"
      ]
     },
     "execution_count": 67,
     "metadata": {},
     "output_type": "execute_result"
    }
   ],
   "source": [
    "len(df)"
   ]
  },
  {
   "cell_type": "code",
   "execution_count": 68,
   "id": "53583650-5833-4f8d-99ca-3c8ee747ceb8",
   "metadata": {},
   "outputs": [
    {
     "data": {
      "text/html": [
       "<div>\n",
       "<style scoped>\n",
       "    .dataframe tbody tr th:only-of-type {\n",
       "        vertical-align: middle;\n",
       "    }\n",
       "\n",
       "    .dataframe tbody tr th {\n",
       "        vertical-align: top;\n",
       "    }\n",
       "\n",
       "    .dataframe thead th {\n",
       "        text-align: right;\n",
       "    }\n",
       "</style>\n",
       "<table border=\"1\" class=\"dataframe\">\n",
       "  <thead>\n",
       "    <tr style=\"text-align: right;\">\n",
       "      <th></th>\n",
       "      <th>CVE</th>\n",
       "      <th>num_of_author</th>\n",
       "    </tr>\n",
       "  </thead>\n",
       "  <tbody>\n",
       "    <tr>\n",
       "      <th>9508</th>\n",
       "      <td>CVE-2023-23397</td>\n",
       "      <td>3202</td>\n",
       "    </tr>\n",
       "    <tr>\n",
       "      <th>6285</th>\n",
       "      <td>CVE-2022-39952</td>\n",
       "      <td>1160</td>\n",
       "    </tr>\n",
       "    <tr>\n",
       "      <th>9024</th>\n",
       "      <td>CVE-2023-21716</td>\n",
       "      <td>883</td>\n",
       "    </tr>\n",
       "    <tr>\n",
       "      <th>9039</th>\n",
       "      <td>CVE-2023-21768</td>\n",
       "      <td>647</td>\n",
       "    </tr>\n",
       "    <tr>\n",
       "      <th>9653</th>\n",
       "      <td>CVE-2023-23752</td>\n",
       "      <td>612</td>\n",
       "    </tr>\n",
       "  </tbody>\n",
       "</table>\n",
       "</div>"
      ],
      "text/plain": [
       "                 CVE  num_of_author\n",
       "9508  CVE-2023-23397           3202\n",
       "6285  CVE-2022-39952           1160\n",
       "9024  CVE-2023-21716            883\n",
       "9039  CVE-2023-21768            647\n",
       "9653  CVE-2023-23752            612"
      ]
     },
     "execution_count": 68,
     "metadata": {},
     "output_type": "execute_result"
    }
   ],
   "source": [
    "df_CVEs = df[[\"author_id\",\"CVE\"]].groupby([\"CVE\"])[\"author_id\"]\\\n",
    "                                          .nunique()\\\n",
    "                                          .reset_index(name = 'num_of_author')\\\n",
    "                                          .sort_values(['num_of_author'],ascending = False)\n",
    "df_CVEs.head()"
   ]
  },
  {
   "cell_type": "code",
   "execution_count": 69,
   "id": "4c2ae77a-c1e6-4ee7-8cba-5f287b5e5dc4",
   "metadata": {},
   "outputs": [
    {
     "data": {
      "text/html": [
       "<div>\n",
       "<style scoped>\n",
       "    .dataframe tbody tr th:only-of-type {\n",
       "        vertical-align: middle;\n",
       "    }\n",
       "\n",
       "    .dataframe tbody tr th {\n",
       "        vertical-align: top;\n",
       "    }\n",
       "\n",
       "    .dataframe thead th {\n",
       "        text-align: right;\n",
       "    }\n",
       "</style>\n",
       "<table border=\"1\" class=\"dataframe\">\n",
       "  <thead>\n",
       "    <tr style=\"text-align: right;\">\n",
       "      <th></th>\n",
       "      <th>CVE</th>\n",
       "      <th>num_of_author</th>\n",
       "    </tr>\n",
       "  </thead>\n",
       "  <tbody>\n",
       "    <tr>\n",
       "      <th>9508</th>\n",
       "      <td>CVE-2023-23397</td>\n",
       "      <td>3202</td>\n",
       "    </tr>\n",
       "    <tr>\n",
       "      <th>6285</th>\n",
       "      <td>CVE-2022-39952</td>\n",
       "      <td>1160</td>\n",
       "    </tr>\n",
       "    <tr>\n",
       "      <th>9024</th>\n",
       "      <td>CVE-2023-21716</td>\n",
       "      <td>883</td>\n",
       "    </tr>\n",
       "    <tr>\n",
       "      <th>9039</th>\n",
       "      <td>CVE-2023-21768</td>\n",
       "      <td>647</td>\n",
       "    </tr>\n",
       "    <tr>\n",
       "      <th>9653</th>\n",
       "      <td>CVE-2023-23752</td>\n",
       "      <td>612</td>\n",
       "    </tr>\n",
       "  </tbody>\n",
       "</table>\n",
       "</div>"
      ],
      "text/plain": [
       "                 CVE  num_of_author\n",
       "9508  CVE-2023-23397           3202\n",
       "6285  CVE-2022-39952           1160\n",
       "9024  CVE-2023-21716            883\n",
       "9039  CVE-2023-21768            647\n",
       "9653  CVE-2023-23752            612"
      ]
     },
     "execution_count": 69,
     "metadata": {},
     "output_type": "execute_result"
    }
   ],
   "source": [
    "df_CVEs_10p = df_CVEs[df_CVEs[\"num_of_author\"] >= 10]\n",
    "df_CVEs_10p.head()"
   ]
  },
  {
   "cell_type": "code",
   "execution_count": 70,
   "id": "d6e41cf1-7ef0-44cf-839f-d3b3b9952901",
   "metadata": {},
   "outputs": [
    {
     "data": {
      "text/html": [
       "<div>\n",
       "<style scoped>\n",
       "    .dataframe tbody tr th:only-of-type {\n",
       "        vertical-align: middle;\n",
       "    }\n",
       "\n",
       "    .dataframe tbody tr th {\n",
       "        vertical-align: top;\n",
       "    }\n",
       "\n",
       "    .dataframe thead th {\n",
       "        text-align: right;\n",
       "    }\n",
       "</style>\n",
       "<table border=\"1\" class=\"dataframe\">\n",
       "  <thead>\n",
       "    <tr style=\"text-align: right;\">\n",
       "      <th></th>\n",
       "      <th>CVE</th>\n",
       "      <th>num_of_author</th>\n",
       "    </tr>\n",
       "  </thead>\n",
       "  <tbody>\n",
       "    <tr>\n",
       "      <th>9816</th>\n",
       "      <td>CVE-2023-24160</td>\n",
       "      <td>10</td>\n",
       "    </tr>\n",
       "    <tr>\n",
       "      <th>9851</th>\n",
       "      <td>CVE-2023-24232</td>\n",
       "      <td>10</td>\n",
       "    </tr>\n",
       "    <tr>\n",
       "      <th>10690</th>\n",
       "      <td>CVE-2023-27235</td>\n",
       "      <td>10</td>\n",
       "    </tr>\n",
       "    <tr>\n",
       "      <th>10683</th>\n",
       "      <td>CVE-2023-27210</td>\n",
       "      <td>10</td>\n",
       "    </tr>\n",
       "    <tr>\n",
       "      <th>9852</th>\n",
       "      <td>CVE-2023-24233</td>\n",
       "      <td>10</td>\n",
       "    </tr>\n",
       "  </tbody>\n",
       "</table>\n",
       "</div>"
      ],
      "text/plain": [
       "                  CVE  num_of_author\n",
       "9816   CVE-2023-24160             10\n",
       "9851   CVE-2023-24232             10\n",
       "10690  CVE-2023-27235             10\n",
       "10683  CVE-2023-27210             10\n",
       "9852   CVE-2023-24233             10"
      ]
     },
     "execution_count": 70,
     "metadata": {},
     "output_type": "execute_result"
    }
   ],
   "source": [
    "df_CVEs_10p.tail()"
   ]
  },
  {
   "cell_type": "code",
   "execution_count": 71,
   "id": "4f2305cb-d358-4b2a-80cb-ae1f14f0c360",
   "metadata": {},
   "outputs": [
    {
     "name": "stdout",
     "output_type": "stream",
     "text": [
      "11044\n"
     ]
    }
   ],
   "source": [
    "print(df[\"CVE\"].nunique())"
   ]
  },
  {
   "cell_type": "code",
   "execution_count": 72,
   "id": "93232556-576e-4acb-826f-23919b7d09c6",
   "metadata": {},
   "outputs": [
    {
     "data": {
      "text/plain": [
       "1724"
      ]
     },
     "execution_count": 72,
     "metadata": {},
     "output_type": "execute_result"
    }
   ],
   "source": [
    "len(df_CVEs_10p)"
   ]
  },
  {
   "cell_type": "code",
   "execution_count": 73,
   "id": "8823947e-23fc-4e21-9d44-5c888879787e",
   "metadata": {},
   "outputs": [
    {
     "data": {
      "text/plain": [
       "11044"
      ]
     },
     "execution_count": 73,
     "metadata": {},
     "output_type": "execute_result"
    }
   ],
   "source": [
    "len(df_CVEs)"
   ]
  },
  {
   "cell_type": "code",
   "execution_count": 74,
   "id": "6f007ecb-d984-4abe-b42c-784800c32b1f",
   "metadata": {},
   "outputs": [
    {
     "data": {
      "text/plain": [
       "<AxesSubplot: xlabel='CVE'>"
      ]
     },
     "execution_count": 74,
     "metadata": {},
     "output_type": "execute_result"
    },
    {
     "data": {
      "image/png": "[encoded data removed]",
      "text/plain": [
       "<Figure size 640x480 with 1 Axes>"
      ]
     },
     "metadata": {},
     "output_type": "display_data"
    }
   ],
   "source": [
    "import matplotlib.pyplot as plt\n",
    "import numpy as np\n",
    "# x = np.array(df_CVEs_10p[\"CVE\"])\n",
    "# y = np.array(df_CVEs_10p[\"num_of_author\"])\n",
    "df_CVEs_10p.plot(x=\"CVE\")"
   ]
  },
  {
   "cell_type": "code",
   "execution_count": null,
   "id": "17d7cdb1-4ecb-42b8-9f0d-40c65d02bd03",
   "metadata": {},
   "outputs": [],
   "source": [
    "list_CVEs_10p = df_CVEs_10p[\"CVE\"].tolist()\n",
    "print(list_CVEs_10p[:10])\n",
    "len(list_CVEs_10p)"
   ]
  },
  {
   "cell_type": "code",
   "execution_count": 76,
   "id": "c3e562dc-7e21-4fa6-81bb-15b79345bc78",
   "metadata": {},
   "outputs": [
    {
     "data": {
      "text/html": [
       "<div>\n",
       "<style scoped>\n",
       "    .dataframe tbody tr th:only-of-type {\n",
       "        vertical-align: middle;\n",
       "    }\n",
       "\n",
       "    .dataframe tbody tr th {\n",
       "        vertical-align: top;\n",
       "    }\n",
       "\n",
       "    .dataframe thead th {\n",
       "        text-align: right;\n",
       "    }\n",
       "</style>\n",
       "<table border=\"1\" class=\"dataframe\">\n",
       "  <thead>\n",
       "    <tr style=\"text-align: right;\">\n",
       "      <th></th>\n",
       "      <th>created_at</th>\n",
       "      <th>id</th>\n",
       "      <th>text</th>\n",
       "      <th>author_id</th>\n",
       "      <th>edit_history_tweet_ids</th>\n",
       "      <th>public_metrics</th>\n",
       "      <th>CVE</th>\n",
       "    </tr>\n",
       "  </thead>\n",
       "  <tbody>\n",
       "    <tr>\n",
       "      <th>1</th>\n",
       "      <td>2023-02-06T15:00:35.000Z</td>\n",
       "      <td>1622611217725399042</td>\n",
       "      <td>RT @0xor0ne: CVE-2021-27365: analysis and expl...</td>\n",
       "      <td>1.949128e+07</td>\n",
       "      <td>['1622611217725399042']</td>\n",
       "      <td>{'retweet_count': 107, 'reply_count': 0, 'like...</td>\n",
       "      <td>CVE-2021-27365</td>\n",
       "    </tr>\n",
       "    <tr>\n",
       "      <th>2</th>\n",
       "      <td>2023-02-06T15:01:32.000Z</td>\n",
       "      <td>1622611455823732736</td>\n",
       "      <td>CVE-2021-21974 https://t.co/OqV4Ki8gRI #Harsia...</td>\n",
       "      <td>1.083501e+18</td>\n",
       "      <td>['1622611455823732736']</td>\n",
       "      <td>{'retweet_count': 0, 'reply_count': 0, 'like_c...</td>\n",
       "      <td>CVE-2021-21974</td>\n",
       "    </tr>\n",
       "    <tr>\n",
       "      <th>3</th>\n",
       "      <td>2023-02-06T15:02:17.000Z</td>\n",
       "      <td>1622611643040423939</td>\n",
       "      <td>RT @SecurityBDog: Is CVE-2022-42889 important ...</td>\n",
       "      <td>1.359569e+18</td>\n",
       "      <td>['1622611643040423939']</td>\n",
       "      <td>{'retweet_count': 2, 'reply_count': 0, 'like_c...</td>\n",
       "      <td>CVE-2022-42889</td>\n",
       "    </tr>\n",
       "    <tr>\n",
       "      <th>5</th>\n",
       "      <td>2023-02-06T15:02:36.000Z</td>\n",
       "      <td>1622611724770877443</td>\n",
       "      <td>RT @0xor0ne: CVE-2022-47949: analysis and expl...</td>\n",
       "      <td>1.621510e+18</td>\n",
       "      <td>['1622611724770877443']</td>\n",
       "      <td>{'retweet_count': 71, 'reply_count': 0, 'like_...</td>\n",
       "      <td>CVE-2022-47949</td>\n",
       "    </tr>\n",
       "    <tr>\n",
       "      <th>6</th>\n",
       "      <td>2023-02-06T15:03:33.000Z</td>\n",
       "      <td>1622611963275780096</td>\n",
       "      <td>CVE-2022-44268 https://t.co/JWNV88HSaa #Harsia...</td>\n",
       "      <td>1.083501e+18</td>\n",
       "      <td>['1622611963275780096']</td>\n",
       "      <td>{'retweet_count': 0, 'reply_count': 0, 'like_c...</td>\n",
       "      <td>CVE-2022-44268</td>\n",
       "    </tr>\n",
       "  </tbody>\n",
       "</table>\n",
       "</div>"
      ],
      "text/plain": [
       "                 created_at                   id  \\\n",
       "1  2023-02-06T15:00:35.000Z  1622611217725399042   \n",
       "2  2023-02-06T15:01:32.000Z  1622611455823732736   \n",
       "3  2023-02-06T15:02:17.000Z  1622611643040423939   \n",
       "5  2023-02-06T15:02:36.000Z  1622611724770877443   \n",
       "6  2023-02-06T15:03:33.000Z  1622611963275780096   \n",
       "\n",
       "                                                text     author_id  \\\n",
       "1  RT @0xor0ne: CVE-2021-27365: analysis and expl...  1.949128e+07   \n",
       "2  CVE-2021-21974 https://t.co/OqV4Ki8gRI #Harsia...  1.083501e+18   \n",
       "3  RT @SecurityBDog: Is CVE-2022-42889 important ...  1.359569e+18   \n",
       "5  RT @0xor0ne: CVE-2022-47949: analysis and expl...  1.621510e+18   \n",
       "6  CVE-2022-44268 https://t.co/JWNV88HSaa #Harsia...  1.083501e+18   \n",
       "\n",
       "    edit_history_tweet_ids                                     public_metrics  \\\n",
       "1  ['1622611217725399042']  {'retweet_count': 107, 'reply_count': 0, 'like...   \n",
       "2  ['1622611455823732736']  {'retweet_count': 0, 'reply_count': 0, 'like_c...   \n",
       "3  ['1622611643040423939']  {'retweet_count': 2, 'reply_count': 0, 'like_c...   \n",
       "5  ['1622611724770877443']  {'retweet_count': 71, 'reply_count': 0, 'like_...   \n",
       "6  ['1622611963275780096']  {'retweet_count': 0, 'reply_count': 0, 'like_c...   \n",
       "\n",
       "              CVE  \n",
       "1  CVE-2021-27365  \n",
       "2  CVE-2021-21974  \n",
       "3  CVE-2022-42889  \n",
       "5  CVE-2022-47949  \n",
       "6  CVE-2022-44268  "
      ]
     },
     "execution_count": 76,
     "metadata": {},
     "output_type": "execute_result"
    }
   ],
   "source": [
    "df_10p= df[df[\"CVE\"].isin(list_CVEs_10p)]\n",
    "df_10p.head()"
   ]
  },
  {
   "cell_type": "code",
   "execution_count": 77,
   "id": "7843cedb-f4af-4339-a02c-4d3b367d64cb",
   "metadata": {},
   "outputs": [
    {
     "data": {
      "text/html": [
       "<div>\n",
       "<style scoped>\n",
       "    .dataframe tbody tr th:only-of-type {\n",
       "        vertical-align: middle;\n",
       "    }\n",
       "\n",
       "    .dataframe tbody tr th {\n",
       "        vertical-align: top;\n",
       "    }\n",
       "\n",
       "    .dataframe thead th {\n",
       "        text-align: right;\n",
       "    }\n",
       "</style>\n",
       "<table border=\"1\" class=\"dataframe\">\n",
       "  <thead>\n",
       "    <tr style=\"text-align: right;\">\n",
       "      <th></th>\n",
       "      <th>created_at</th>\n",
       "      <th>id</th>\n",
       "      <th>text</th>\n",
       "      <th>author_id</th>\n",
       "      <th>edit_history_tweet_ids</th>\n",
       "      <th>public_metrics</th>\n",
       "      <th>CVE</th>\n",
       "    </tr>\n",
       "  </thead>\n",
       "  <tbody>\n",
       "    <tr>\n",
       "      <th>95005</th>\n",
       "      <td>2023-03-26 14:55:04+00:00</td>\n",
       "      <td>1640004446057840646</td>\n",
       "      <td>RT @threatmeter: CVE-2021-42761 | Fortinet For...</td>\n",
       "      <td>1.900976e+08</td>\n",
       "      <td>[1640004446057840646]</td>\n",
       "      <td>{'retweet_count': 14, 'reply_count': 0, 'like_...</td>\n",
       "      <td>CVE-2021-42761</td>\n",
       "    </tr>\n",
       "    <tr>\n",
       "      <th>95007</th>\n",
       "      <td>2023-03-26 14:56:54+00:00</td>\n",
       "      <td>1640004907666231296</td>\n",
       "      <td>ثغرة حديثة \"CVE-2022-3229\"\\n #منيع https://t.c...</td>\n",
       "      <td>1.633455e+18</td>\n",
       "      <td>[1640004907666231296]</td>\n",
       "      <td>{'retweet_count': 0, 'reply_count': 0, 'like_c...</td>\n",
       "      <td>CVE-2022-3229</td>\n",
       "    </tr>\n",
       "    <tr>\n",
       "      <th>95008</th>\n",
       "      <td>2023-03-26 14:56:55+00:00</td>\n",
       "      <td>1640004909969063939</td>\n",
       "      <td>🚨 NEW: CVE-2023-1445 🚨 A vulnerability classif...</td>\n",
       "      <td>9.041290e+17</td>\n",
       "      <td>[1640004909969063939]</td>\n",
       "      <td>{'retweet_count': 0, 'reply_count': 0, 'like_c...</td>\n",
       "      <td>CVE-2023-1445</td>\n",
       "    </tr>\n",
       "    <tr>\n",
       "      <th>95010</th>\n",
       "      <td>2023-03-26 14:58:45+00:00</td>\n",
       "      <td>1640005374831984641</td>\n",
       "      <td>RT @CVEnew: CVE-2023-1105 External Control of ...</td>\n",
       "      <td>1.493214e+18</td>\n",
       "      <td>[1640005374831984641]</td>\n",
       "      <td>{'retweet_count': 1, 'reply_count': 0, 'like_c...</td>\n",
       "      <td>CVE-2023-1105</td>\n",
       "    </tr>\n",
       "    <tr>\n",
       "      <th>95011</th>\n",
       "      <td>2023-03-26 14:59:10+00:00</td>\n",
       "      <td>1640005479223967746</td>\n",
       "      <td>ثغرة حديثة \"CVE-2022-46496\"\\n #منيع https://t....</td>\n",
       "      <td>1.633455e+18</td>\n",
       "      <td>[1640005479223967746]</td>\n",
       "      <td>{'retweet_count': 0, 'reply_count': 0, 'like_c...</td>\n",
       "      <td>CVE-2022-46496</td>\n",
       "    </tr>\n",
       "  </tbody>\n",
       "</table>\n",
       "</div>"
      ],
      "text/plain": [
       "                      created_at                   id  \\\n",
       "95005  2023-03-26 14:55:04+00:00  1640004446057840646   \n",
       "95007  2023-03-26 14:56:54+00:00  1640004907666231296   \n",
       "95008  2023-03-26 14:56:55+00:00  1640004909969063939   \n",
       "95010  2023-03-26 14:58:45+00:00  1640005374831984641   \n",
       "95011  2023-03-26 14:59:10+00:00  1640005479223967746   \n",
       "\n",
       "                                                    text     author_id  \\\n",
       "95005  RT @threatmeter: CVE-2021-42761 | Fortinet For...  1.900976e+08   \n",
       "95007  ثغرة حديثة \"CVE-2022-3229\"\\n #منيع https://t.c...  1.633455e+18   \n",
       "95008  🚨 NEW: CVE-2023-1445 🚨 A vulnerability classif...  9.041290e+17   \n",
       "95010  RT @CVEnew: CVE-2023-1105 External Control of ...  1.493214e+18   \n",
       "95011  ثغرة حديثة \"CVE-2022-46496\"\\n #منيع https://t....  1.633455e+18   \n",
       "\n",
       "      edit_history_tweet_ids  \\\n",
       "95005  [1640004446057840646]   \n",
       "95007  [1640004907666231296]   \n",
       "95008  [1640004909969063939]   \n",
       "95010  [1640005374831984641]   \n",
       "95011  [1640005479223967746]   \n",
       "\n",
       "                                          public_metrics             CVE  \n",
       "95005  {'retweet_count': 14, 'reply_count': 0, 'like_...  CVE-2021-42761  \n",
       "95007  {'retweet_count': 0, 'reply_count': 0, 'like_c...   CVE-2022-3229  \n",
       "95008  {'retweet_count': 0, 'reply_count': 0, 'like_c...   CVE-2023-1445  \n",
       "95010  {'retweet_count': 1, 'reply_count': 0, 'like_c...   CVE-2023-1105  \n",
       "95011  {'retweet_count': 0, 'reply_count': 0, 'like_c...  CVE-2022-46496  "
      ]
     },
     "execution_count": 77,
     "metadata": {},
     "output_type": "execute_result"
    }
   ],
   "source": [
    "df_10p.tail()"
   ]
  },
  {
   "cell_type": "code",
   "execution_count": 78,
   "id": "ac21c287-4fb5-4d16-acfe-0b968714902c",
   "metadata": {},
   "outputs": [
    {
     "data": {
      "text/plain": [
       "52885"
      ]
     },
     "execution_count": 78,
     "metadata": {},
     "output_type": "execute_result"
    }
   ],
   "source": [
    "len(df_10p)"
   ]
  },
  {
   "cell_type": "code",
   "execution_count": 84,
   "id": "6b83355e-595a-4da2-8454-d7faf9214677",
   "metadata": {},
   "outputs": [
    {
     "name": "stdout",
     "output_type": "stream",
     "text": [
      "['CVE-2021-27365', 'CVE-2021-21974', 'CVE-2022-42889', 'CVE-2022-47949', 'CVE-2022-44268', 'CVE-2022-48019', 'CVE-2023-24191', 'CVE-2023-24192', 'CVE-2023-24194', 'CVE-2021-21974']\n"
     ]
    }
   ],
   "source": [
    "# https://qiita.com/usop4/items/70b7db1acbd54112c428\n",
    "import urllib.request\n",
    "from bs4 import BeautifulSoup\n",
    "\n",
    "cve_list = df_10p[\"CVE\"].tolist()\n",
    "\n",
    "print(cve_list[:10])"
   ]
  },
  {
   "cell_type": "code",
   "execution_count": 89,
   "id": "95999f67-ad4d-4453-99fd-6d254f45f407",
   "metadata": {},
   "outputs": [
    {
     "name": "stdout",
     "output_type": "stream",
     "text": [
      "CVE-2021-27365, 7.8 HIGH\n",
      "CVE-2021-21974, 8.8 HIGH\n",
      "CVE-2022-42889, 9.8 CRITICAL\n"
     ]
    },
    {
     "name": "stderr",
     "output_type": "stream",
     "text": [
      "2023-03-29 08:45:24 [INFO] 610071444.py, lines 30. リトライ回数:1回目\n",
      "2023-03-29 08:45:24 [INFO] 610071444.py, lines 30. リトライ回数:1回目\n",
      "2023-03-29 08:46:41 [INFO] 610071444.py, lines 30. リトライ回数:2回目\n",
      "2023-03-29 08:46:41 [INFO] 610071444.py, lines 30. リトライ回数:2回目\n",
      "2023-03-29 08:48:34 [INFO] 610071444.py, lines 30. リトライ回数:1回目\n",
      "2023-03-29 08:48:34 [INFO] 610071444.py, lines 30. リトライ回数:1回目\n",
      "2023-03-29 08:49:18 [INFO] 610071444.py, lines 30. リトライ回数:2回目\n",
      "2023-03-29 08:49:18 [INFO] 610071444.py, lines 30. リトライ回数:2回目\n"
     ]
    },
    {
     "name": "stdout",
     "output_type": "stream",
     "text": [
      "CVE-2022-44268, 6.5 MEDIUM\n",
      "CVE-2022-48019, 7.8 HIGH\n",
      "CVE-2023-24191, 6.1 MEDIUM\n"
     ]
    },
    {
     "name": "stderr",
     "output_type": "stream",
     "text": [
      "2023-03-29 08:50:54 [INFO] 610071444.py, lines 30. リトライ回数:1回目\n",
      "2023-03-29 08:50:54 [INFO] 610071444.py, lines 30. リトライ回数:1回目\n"
     ]
    },
    {
     "name": "stdout",
     "output_type": "stream",
     "text": [
      "CVE-2023-24192, 6.1 MEDIUM\n",
      "CVE-2023-24194, 6.1 MEDIUM\n",
      "CVE-2021-21974, 8.8 HIGH\n"
     ]
    }
   ],
   "source": [
    "from time import sleep\n",
    "import logging\n",
    "\n",
    "# https://www.true-fly.com/entry/2022/03/02/073000\n",
    "# 処理時間を計測するため、loggerのフォーマット設定しています\n",
    "logger = logging.getLogger(__name__)\n",
    "logger.setLevel(logging.DEBUG)\n",
    "format = '%(asctime)s [%(levelname)s] %(filename)s, lines %(lineno)d. %(message)s'\n",
    "formatter = logging.Formatter(format, '%Y-%m-%d %H:%M:%S')\n",
    "stream_handler = logging.StreamHandler()\n",
    "stream_handler.setFormatter(formatter)\n",
    "logger.addHandler(stream_handler)\n",
    "\n",
    "for cve in cve_list[:10]:\n",
    "    # リトライ間隔（秒）\n",
    "    retry_interval = 2\n",
    "    # 試行回数\n",
    "    tries = 5\n",
    "    \n",
    "    for i in range(0, tries):\n",
    "        try:\n",
    "            instance = urllib.request.urlopen(\"https://nvd.nist.gov/vuln/detail/\"+cve)\n",
    "            break\n",
    "            \n",
    "        except Exception as e:\n",
    "            if i + 1 == tries:\n",
    "                raise e\n",
    "            \n",
    "            sleep(retry_interval)\n",
    "            logger.info('リトライ回数:{}回目'.format(i + 1))\n",
    "            continue\n",
    "            \n",
    "    soup = BeautifulSoup(instance, \"html.parser\")\n",
    "    desc = soup.select_one(\"[data-testid=vuln-cvss3-panel-score]\")\n",
    "    if hasattr(desc, \"text\"):\n",
    "        print(f\"{cve}, {desc.text.strip()}\")"
   ]
  },
  {
   "cell_type": "code",
   "execution_count": 129,
   "id": "135dff5f-5b32-4b8d-a658-51c1468646f0",
   "metadata": {},
   "outputs": [
    {
     "data": {
      "text/plain": [
       "['HIGH', 7.8]"
      ]
     },
     "execution_count": 129,
     "metadata": {},
     "output_type": "execute_result"
    }
   ],
   "source": [
    "import requests\n",
    "import json\n",
    "\n",
    "def get_cvss_level(cve_id):\n",
    "    # Initialize\n",
    "    cvssV3 = []\n",
    "\n",
    "    # 入力したCVE番号に対応する脆弱性情報をNVDのAPIからJSON形式で取得して、cvssV3のbaseSeverity, baseScoreを返却する\n",
    "    api = \"https://services.nvd.nist.gov/rest/json/cves/2.0\\?cveId=\"\n",
    "    cve = cve_id\n",
    "    uri = api + cve\n",
    "    # print(uri)\n",
    "    try:\n",
    "        response = requests.get(uri)\n",
    "    except Exception as e :\n",
    "        raise e\n",
    "    # print(response.text)\n",
    "    json_data = json.loads(response.text)\n",
    "    \n",
    "    if json_data['vulnerabilities']:\n",
    "        baseSeverity = json_data['vulnerabilities'][0]['cve']['metrics']['cvssMetricV31'][0]['cvssData']['baseSeverity']\n",
    "        baseScore = json_data['vulnerabilities'][0]['cve']['metrics']['cvssMetricV31'][0]['cvssData']['baseScore']\n",
    "        cvssV3 = [baseSeverity,baseScore]\n",
    "    \n",
    "    else:\n",
    "        baseSeverity = None\n",
    "        baseScore = None\n",
    "        cvssV3 = [baseSeverity,baseScore]\n",
    "\n",
    "    return(cvssV3)\n",
    "\n",
    "get_cvss_level(\"CVE-2021-27365\")    "
   ]
  },
  {
   "cell_type": "code",
   "execution_count": 130,
   "id": "4c02c925-052f-4723-9d56-6f50fa6a2fb1",
   "metadata": {},
   "outputs": [
    {
     "name": "stdout",
     "output_type": "stream",
     "text": [
      "CVE-2021-27365,HIGH,7.8\n",
      "CVE-2021-21974,HIGH,8.8\n",
      "CVE-2022-42889,CRITICAL,9.8\n"
     ]
    }
   ],
   "source": [
    "for cve in cve_list[:3]:\n",
    "    # API取得間隔（秒）\n",
    "    # https://nvd.nist.gov/developers/start-here\n",
    "    # \"The public rate limit (without an API key) is 5 requests in a rolling 30 second window\"\n",
    "    interval = 6\n",
    "    # リトライ間隔（秒）\n",
    "    retry_interval = 6\n",
    "    # 試行回数\n",
    "    tries = 5\n",
    "    \n",
    "    for i in range(0, tries):\n",
    "        try:\n",
    "            cvss_level = get_cvss_level(cve)\n",
    "            cvss_severity = cvss_level[0]\n",
    "            cvss_score = cvss_level[1]\n",
    "            sleep(interval)\n",
    "            break\n",
    "            \n",
    "        except Exception as e:\n",
    "            if i + 1 == tries:\n",
    "                raise e\n",
    "            \n",
    "            sleep(retry_interval)\n",
    "            logger.info('リトライ回数:{}回目'.format(i + 1))\n",
    "            continue\n",
    "    if cvss_level:\n",
    "        print(f\"{cve},{cvss_severity},{cvss_score}\")"
   ]
  },
  {
   "cell_type": "code",
   "execution_count": 131,
   "id": "3d0b87d5-c9a5-4090-9e0a-d79873bc3a51",
   "metadata": {},
   "outputs": [
    {
     "name": "stdout",
     "output_type": "stream",
     "text": [
      "0\n",
      "1\n",
      "2\n",
      "3\n",
      "4\n",
      "5\n",
      "6\n",
      "7\n",
      "8\n",
      "9\n",
      "10\n",
      "11\n",
      "12\n",
      "13\n",
      "14\n",
      "15\n",
      "16\n",
      "17\n",
      "18\n",
      "19\n",
      "20\n",
      "21\n",
      "22\n",
      "23\n",
      "24\n",
      "25\n",
      "26\n",
      "27\n",
      "28\n",
      "29\n",
      "30\n",
      "31\n",
      "32\n",
      "33\n",
      "34\n",
      "35\n",
      "36\n",
      "37\n",
      "38\n",
      "39\n",
      "40\n",
      "41\n",
      "42\n",
      "43\n",
      "44\n",
      "45\n",
      "46\n",
      "47\n",
      "48\n",
      "49\n",
      "50\n",
      "51\n",
      "52\n",
      "53\n",
      "54\n",
      "55\n",
      "56\n",
      "57\n",
      "58\n",
      "59\n",
      "60\n",
      "61\n",
      "62\n",
      "63\n",
      "64\n",
      "65\n",
      "66\n",
      "67\n",
      "68\n",
      "69\n",
      "70\n",
      "71\n",
      "72\n",
      "73\n",
      "74\n",
      "75\n",
      "76\n",
      "77\n",
      "78\n",
      "79\n",
      "80\n",
      "81\n",
      "82\n",
      "83\n",
      "84\n",
      "85\n",
      "86\n",
      "87\n",
      "88\n",
      "89\n",
      "90\n",
      "91\n",
      "92\n",
      "93\n",
      "94\n",
      "95\n",
      "96\n",
      "97\n",
      "98\n",
      "99\n",
      "100\n",
      "101\n",
      "102\n",
      "103\n",
      "104\n",
      "105\n",
      "106\n",
      "107\n",
      "108\n",
      "109\n",
      "110\n",
      "111\n",
      "112\n",
      "113\n",
      "114\n",
      "115\n",
      "116\n",
      "117\n",
      "118\n",
      "119\n",
      "120\n",
      "121\n",
      "122\n",
      "123\n",
      "124\n",
      "125\n",
      "126\n",
      "127\n",
      "128\n",
      "129\n",
      "130\n",
      "131\n",
      "132\n",
      "133\n",
      "134\n",
      "135\n",
      "136\n",
      "137\n",
      "138\n",
      "139\n",
      "140\n",
      "141\n",
      "142\n",
      "143\n",
      "144\n",
      "145\n",
      "146\n",
      "147\n",
      "148\n",
      "149\n",
      "150\n",
      "151\n",
      "152\n",
      "153\n",
      "154\n",
      "155\n",
      "156\n",
      "157\n",
      "158\n",
      "159\n",
      "160\n",
      "161\n",
      "162\n",
      "163\n",
      "164\n",
      "165\n",
      "166\n",
      "167\n",
      "168\n",
      "169\n",
      "170\n",
      "171\n",
      "172\n",
      "173\n",
      "174\n",
      "175\n",
      "176\n",
      "177\n",
      "178\n",
      "179\n",
      "180\n",
      "181\n",
      "182\n",
      "183\n",
      "184\n",
      "185\n",
      "186\n",
      "187\n"
     ]
    },
    {
     "name": "stderr",
     "output_type": "stream",
     "text": [
      "2023-03-30 07:26:22 [INFO] 460218602.py, lines 33. リトライ回数:1回目\n",
      "2023-03-30 07:26:22 [INFO] 460218602.py, lines 33. リトライ回数:1回目\n",
      "2023-03-30 07:26:30 [INFO] 460218602.py, lines 33. リトライ回数:2回目\n",
      "2023-03-30 07:26:30 [INFO] 460218602.py, lines 33. リトライ回数:2回目\n",
      "2023-03-30 07:26:37 [INFO] 460218602.py, lines 33. リトライ回数:3回目\n",
      "2023-03-30 07:26:37 [INFO] 460218602.py, lines 33. リトライ回数:3回目\n",
      "2023-03-30 07:26:44 [INFO] 460218602.py, lines 33. リトライ回数:4回目\n",
      "2023-03-30 07:26:44 [INFO] 460218602.py, lines 33. リトライ回数:4回目\n",
      "2023-03-30 07:26:45 [INFO] 460218602.py, lines 30. 取得失敗'cvssMetricV31':187個目\n",
      "2023-03-30 07:26:45 [INFO] 460218602.py, lines 30. 取得失敗'cvssMetricV31':187個目\n",
      "2023-03-30 07:26:51 [INFO] 460218602.py, lines 33. リトライ回数:5回目\n",
      "2023-03-30 07:26:51 [INFO] 460218602.py, lines 33. リトライ回数:5回目\n"
     ]
    },
    {
     "ename": "NameError",
     "evalue": "name 'NaN' is not defined",
     "output_type": "error",
     "traceback": [
      "\u001b[0;31m\u001b[0m",
      "\u001b[0;31mNameError\u001b[0mTraceback (most recent call last)",
      "Cell \u001b[0;32mIn[131], line 40\u001b[0m\n\u001b[1;32m     38\u001b[0m         cvss_scores\u001b[38;5;241m.\u001b[39mappend(cvss_score)\n\u001b[1;32m     39\u001b[0m     \u001b[38;5;28;01melse\u001b[39;00m:\n\u001b[0;32m---> 40\u001b[0m         cvss_severities\u001b[38;5;241m.\u001b[39mappend(\u001b[43mNaN\u001b[49m)\n\u001b[1;32m     41\u001b[0m         cvss_scores\u001b[38;5;241m.\u001b[39mappend(NaN)\n\u001b[1;32m     44\u001b[0m \u001b[38;5;66;03m#print(cvss_severities)\u001b[39;00m\n\u001b[1;32m     45\u001b[0m \u001b[38;5;66;03m#print(cvss_scores)\u001b[39;00m\n",
      "\u001b[0;31mNameError\u001b[0m: name 'NaN' is not defined"
     ]
    }
   ],
   "source": [
    "cvss_severities = []\n",
    "cvss_scores = []\n",
    "\n",
    "for n, cve in enumerate(cve_list[:]):\n",
    "    # API取得間隔（秒）\n",
    "    # https://nvd.nist.gov/developers/start-here\n",
    "    # \"The public rate limit (without an API key) is 5 requests in a rolling 30 second window\"\n",
    "    interval = 6\n",
    "    # リトライ間隔（秒）\n",
    "    retry_interval = 6\n",
    "    # 試行回数\n",
    "    tries = 5\n",
    "    \n",
    "    cvss_level = []\n",
    "    cvss_severity = None\n",
    "    cvss_score = None\n",
    "    \n",
    "    print(n)\n",
    "    \n",
    "    for i in range(0, tries):\n",
    "        try:\n",
    "            cvss_level = get_cvss_level(cve)\n",
    "            cvss_severity = cvss_level[0]\n",
    "            cvss_score = cvss_level[1]\n",
    "            sleep(interval)\n",
    "            break\n",
    "            \n",
    "        except Exception as e:\n",
    "            if i + 1 == tries:\n",
    "                logger.info(\"取得失敗{}:{}個目\".format(e,n))\n",
    "            \n",
    "            sleep(retry_interval)\n",
    "            logger.info('リトライ回数:{}回目'.format(i + 1))\n",
    "            continue\n",
    "            \n",
    "    if cvss_level:\n",
    "        cvss_severities.append(cvss_severity)\n",
    "        cvss_scores.append(cvss_score)\n",
    "    else:\n",
    "        cvss_severities.append(NaN)\n",
    "        cvss_scores.append(NaN)\n",
    "        \n",
    "\n",
    "#print(cvss_severities)\n",
    "#print(cvss_scores)\n",
    "\n",
    "df_10p_cvss = df_10p\n",
    "df_10p_cvss[\"baseSeverity\"] = cvss_severities\n",
    "df_10p_cvss[\"baseScore\"] = cvss_scores\n",
    "df_10p_cvss.head()"
   ]
  },
  {
   "cell_type": "code",
   "execution_count": 134,
   "id": "946df628-3df5-418e-b417-5c850d88f04e",
   "metadata": {},
   "outputs": [
    {
     "name": "stdout",
     "output_type": "stream",
     "text": [
      "['CVE-2023-0179', 'CVE-2023-0210', 'CVE-2023-20860', 'CVE-2017-9140', 'CVE-2022-36413']\n"
     ]
    }
   ],
   "source": [
    "# https://qiita.com/f6wbl6/items/ddd4720a3014a89d922d\n",
    "from operator import itemgetter\n",
    "print(list(itemgetter(12,37,79,83,114)(list_CVEs_10p)))"
   ]
  },
  {
   "cell_type": "code",
   "execution_count": 135,
   "id": "3d61e35d-bc0b-4746-8cf2-b37de1d0fed6",
   "metadata": {},
   "outputs": [
    {
     "name": "stdout",
     "output_type": "stream",
     "text": [
      "{\"resultsPerPage\":1,\"startIndex\":0,\"totalResults\":1,\"format\":\"NVD_CVE\",\"version\":\"2.0\",\"timestamp\":\"2023-03-30T08:06:43.380\",\"vulnerabilities\":[{\"cve\":{\"id\":\"CVE-2023-0179\",\"sourceIdentifier\":\"secalert@redhat.com\",\"published\":\"2023-03-27T22:15:20.963\",\"lastModified\":\"2023-03-28T10:12:01.767\",\"vulnStatus\":\"Awaiting Analysis\",\"descriptions\":[{\"lang\":\"en\",\"value\":\"A buffer overflow vulnerability was found in the Netfilter subsystem in the Linux Kernel. This issue could allow the leakage of both stack and heap addresses, and potentially allow Local Privilege Escalation to the root user via arbitrary code execution.\"}],\"metrics\":{},\"weaknesses\":[{\"source\":\"secalert@redhat.com\",\"type\":\"Secondary\",\"description\":[{\"lang\":\"en\",\"value\":\"CWE-190\"}]}],\"references\":[{\"url\":\"https:\\/\\/bugzilla.redhat.com\\/show_bug.cgi?id=2161713\",\"source\":\"secalert@redhat.com\"},{\"url\":\"https:\\/\\/seclists.org\\/oss-sec\\/2023\\/q1\\/20\",\"source\":\"secalert@redhat.com\"}]}}]}\n",
      "<html><body><h1>403 Forbidden</h1>\n",
      "Request forbidden by administrative rules.\n",
      "</body></html>\n",
      "\n",
      "<html><body><h1>403 Forbidden</h1>\n",
      "Request forbidden by administrative rules.\n",
      "</body></html>\n",
      "\n",
      "<html><body><h1>403 Forbidden</h1>\n",
      "Request forbidden by administrative rules.\n",
      "</body></html>\n",
      "\n",
      "<html><body><h1>403 Forbidden</h1>\n",
      "Request forbidden by administrative rules.\n",
      "</body></html>\n",
      "\n"
     ]
    }
   ],
   "source": [
    "import requests\n",
    "\n",
    "for cve in list(itemgetter(12,37,79,83,114)(list_CVEs_10p)):\n",
    "\n",
    "    params = {\n",
    "        'cveId': cve,\n",
    "    }\n",
    "    response = requests.get('https://services.nvd.nist.gov/rest/json/cves/2.0', params=params)\n",
    "    print(response.text)"
   ]
  },
  {
   "cell_type": "code",
   "execution_count": 136,
   "id": "2fe3e66c-7807-469e-b8bc-48b557ad5419",
   "metadata": {},
   "outputs": [
    {
     "name": "stdout",
     "output_type": "stream",
     "text": [
      "['CVE-2022-23529', 'CVE-2016-10190', 'CVE-2018-5093', 'CVE-2015-2291', 'CVE-2017-0145', 'CVE-2023-0494', 'CVE-2023-1175']\n"
     ]
    }
   ],
   "source": [
    "print(list(itemgetter(119,131,136,164,186,232,247)(list_CVEs_10p)))"
   ]
  }
 ],
 "metadata": {
  "kernelspec": {
   "display_name": "Python 3 (ipykernel)",
   "language": "python",
   "name": "python3"
  },
  "language_info": {
   "codemirror_mode": {
    "name": "ipython",
    "version": 3
   },
   "file_extension": ".py",
   "mimetype": "text/x-python",
   "name": "python",
   "nbconvert_exporter": "python",
   "pygments_lexer": "ipython3",
   "version": "3.10.8"
  }
 },
 "nbformat": 4,
 "nbformat_minor": 5
}
