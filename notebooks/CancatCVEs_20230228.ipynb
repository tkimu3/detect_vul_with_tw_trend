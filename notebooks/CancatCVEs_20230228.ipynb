{
 "cells": [
  {
   "cell_type": "code",
   "execution_count": 123,
   "id": "07118181-66d3-4e08-8696-3246385e69b1",
   "metadata": {},
   "outputs": [],
   "source": [
    "import pandas as pd\n",
    "from pathlib import Path"
   ]
  },
  {
   "cell_type": "code",
   "execution_count": 124,
   "id": "0e93ec0c-8da1-4fc7-8b24-52476c10eca3",
   "metadata": {},
   "outputs": [
    {
     "name": "stdout",
     "output_type": "stream",
     "text": [
      ".\n"
     ]
    }
   ],
   "source": [
    "# get current path \n",
    "path = Path('.')\n",
    "print(path)"
   ]
  },
  {
   "cell_type": "code",
   "execution_count": 125,
   "id": "3850fb5e-6ee1-4378-b5cd-f0fb7f288993",
   "metadata": {},
   "outputs": [],
   "source": [
    "# Define file type to read\n",
    "file_name = '*.csv'"
   ]
  },
  {
   "cell_type": "code",
   "execution_count": 126,
   "id": "2d96727a-f231-4feb-851a-e2aa06692bd5",
   "metadata": {},
   "outputs": [
    {
     "name": "stdout",
     "output_type": "stream",
     "text": [
      "<class 'generator'>\n"
     ]
    }
   ],
   "source": [
    "# csv file paths to read\n",
    "csv_filepaths = path.glob(file_name)\n",
    "print(type(csv_filepaths))"
   ]
  },
  {
   "cell_type": "code",
   "execution_count": 127,
   "id": "28aaef97-2f36-4549-b8b8-5cff957d8cf3",
   "metadata": {},
   "outputs": [
    {
     "name": "stdout",
     "output_type": "stream",
     "text": [
      "lines:20230219-20230220.csv:2829\n",
      "total_lines:2829\n",
      "lines:20230213-20230218.csv:18361\n",
      "total_lines:21190\n",
      "lines:20230227-20230227.csv:1573\n",
      "total_lines:22763\n",
      "lines:20230207-20230212.csv:10520\n",
      "total_lines:33283\n",
      "lines:20230221-20230226.csv:13771\n",
      "total_lines:47054\n"
     ]
    }
   ],
   "source": [
    "df = pd.DataFrame()\n",
    "df_tmp = pd.DataFrame()\n",
    "for csv_file in csv_filepaths:\n",
    "    # df_tmp = pd.read_csv(csv_file, sep=',', engine = 'python', header = 0, error_bad_lines=False)\n",
    "    df_tmp = pd.read_csv(csv_file, sep=',', engine = 'python', header = 0, on_bad_lines='skip')\n",
    "    print(f\"lines:{csv_file}:{len(df_tmp)}\")\n",
    "    df = pd.concat([df, df_tmp])\n",
    "    df = df.sort_values(['created_at'], axis = 0, ascending = True)\n",
    "    print(f\"total_lines:{len(df)}\")\n",
    "    df_tmp = pd.DataFrame()\n",
    "df.to_csv('all.csv', index = False, header = True)"
   ]
  }
 ],
 "metadata": {
  "kernelspec": {
   "display_name": "Python 3 (ipykernel)",
   "language": "python",
   "name": "python3"
  },
  "language_info": {
   "codemirror_mode": {
    "name": "ipython",
    "version": 3
   },
   "file_extension": ".py",
   "mimetype": "text/x-python",
   "name": "python",
   "nbconvert_exporter": "python",
   "pygments_lexer": "ipython3",
   "version": "3.10.8"
  }
 },
 "nbformat": 4,
 "nbformat_minor": 5
}
