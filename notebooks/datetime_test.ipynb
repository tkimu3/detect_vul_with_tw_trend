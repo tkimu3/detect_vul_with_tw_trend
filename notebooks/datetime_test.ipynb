{
 "cells": [
  {
   "cell_type": "code",
   "execution_count": 1,
   "id": "f9bda7d2-4c26-44a7-9bf0-7bfff0c89ca8",
   "metadata": {},
   "outputs": [],
   "source": [
    "import sys\n",
    "sys.path.append('../')\n",
    "import config\n",
    "import tweepy\n",
    "import os\n",
    "import json\n",
    "import codecs\n",
    "\n",
    "import pandas as pd\n",
    "import numpy as np\n",
    "import datetime\n",
    "from datetime import datetime, timedelta\n",
    "import locale"
   ]
  },
  {
   "cell_type": "code",
   "execution_count": 2,
   "id": "ac965cd7-1328-4fc3-9dcf-52ec80a39b4b",
   "metadata": {},
   "outputs": [
    {
     "name": "stdout",
     "output_type": "stream",
     "text": [
      "2023-02-27 09:25:37.507500\n",
      "2023-02-25 00:00:00\n",
      "2023-02-27 00:00:00\n",
      "2023-02-25T00:00:00+09:00\n",
      "2023-02-27T00:00:00+09:00\n"
     ]
    }
   ],
   "source": [
    "# https://qiita.com/daisuke-aoki/items/30e3d6e84637326ef1da\n",
    "# 取得対象のツイートの時間幅を指定する この例では実行前日と前々日の48時間\n",
    "# iso形式のUTC時間で指定しないと正しく時間指定ができない模様。\n",
    "# 指定した時間幅に、limitで指定した件数以上のツイートがあってもlimit以上は取得しない\n",
    "now = datetime.now()\n",
    "print(now)\n",
    "start_time = now - timedelta(days=2)\n",
    "start_time = start_time.replace(hour = 0, minute = 0, second=0, microsecond=0)\n",
    "print(start_time)\n",
    "end_time = now.replace(hour = 0, minute = 0, second=0, microsecond=0)\n",
    "print(end_time)\n",
    "# now = now.replace(minute=0, second=0, microsecond=0)\n",
    "end_time_tweepy = str(end_time.isoformat()) +'+09:00'\n",
    "# start_time = now - timedelta(days=7) \n",
    "start_time_tweepy = str(start_time.isoformat())+'+09:00'\n",
    "print(start_time_tweepy)\n",
    "print(end_time_tweepy)"
   ]
  },
  {
   "cell_type": "code",
   "execution_count": 4,
   "id": "0547763a-2431-4339-b6b2-7936bd881c9e",
   "metadata": {},
   "outputs": [
    {
     "name": "stdout",
     "output_type": "stream",
     "text": [
      "<class 'datetime.datetime'>\n"
     ]
    }
   ],
   "source": [
    "print(type(start_time))"
   ]
  }
 ],
 "metadata": {
  "kernelspec": {
   "display_name": "Python 3 (ipykernel)",
   "language": "python",
   "name": "python3"
  },
  "language_info": {
   "codemirror_mode": {
    "name": "ipython",
    "version": 3
   },
   "file_extension": ".py",
   "mimetype": "text/x-python",
   "name": "python",
   "nbconvert_exporter": "python",
   "pygments_lexer": "ipython3",
   "version": "3.10.8"
  }
 },
 "nbformat": 4,
 "nbformat_minor": 5
}
