{
 "cells": [
  {
   "cell_type": "code",
   "execution_count": 1,
   "id": "37ea9ce8-14b3-4bb0-bae3-9d2df67ace45",
   "metadata": {
    "id": "37ea9ce8-14b3-4bb0-bae3-9d2df67ace45"
   },
   "outputs": [],
   "source": [
    "# Read the csv files\n",
    "import pandas as pd\n",
    "import datetime\n",
    "from sklearn.model_selection import train_test_split\n",
    "from sklearn.ensemble import RandomForestClassifier"
   ]
  },
  {
   "cell_type": "code",
   "execution_count": 2,
   "id": "P5jHWfPmMlNC",
   "metadata": {
    "colab": {
     "base_uri": "https://localhost:8080/"
    },
    "id": "P5jHWfPmMlNC",
    "outputId": "7b83a189-d110-4bf2-c96f-a7bdcdd68e86"
   },
   "outputs": [],
   "source": [
    "#from google.colab import drive\n",
    "#drive.mount('/content/drive')"
   ]
  },
  {
   "cell_type": "code",
   "execution_count": 3,
   "id": "76902841-a915-4bfa-b6d7-ac58e0b28f8f",
   "metadata": {
    "colab": {
     "base_uri": "https://localhost:8080/",
     "height": 679
    },
    "id": "76902841-a915-4bfa-b6d7-ac58e0b28f8f",
    "outputId": "0d637bcc-e7ff-45b0-bfec-076e4ded7e0e"
   },
   "outputs": [
    {
     "ename": "FileNotFoundError",
     "evalue": "[Errno 2] No such file or directory: '1677CVEs_783dim_features.csv'",
     "output_type": "error",
     "traceback": [
      "\u001b[0;31m---------------------------------------------------------------------------\u001b[0m",
      "\u001b[0;31mFileNotFoundError\u001b[0m                         Traceback (most recent call last)",
      "Cell \u001b[0;32mIn[3], line 1\u001b[0m\n\u001b[0;32m----> 1\u001b[0m df_features \u001b[38;5;241m=\u001b[39m \u001b[43mpd\u001b[49m\u001b[38;5;241;43m.\u001b[39;49m\u001b[43mread_csv\u001b[49m\u001b[43m(\u001b[49m\u001b[38;5;124;43m\"\u001b[39;49m\u001b[38;5;124;43m1677CVEs_783dim_features.csv\u001b[39;49m\u001b[38;5;124;43m\"\u001b[39;49m\u001b[43m)\u001b[49m\n\u001b[1;32m      2\u001b[0m df_features\n",
      "File \u001b[0;32m~/.local/lib/python3.10/site-packages/pandas/io/parsers/readers.py:912\u001b[0m, in \u001b[0;36mread_csv\u001b[0;34m(filepath_or_buffer, sep, delimiter, header, names, index_col, usecols, dtype, engine, converters, true_values, false_values, skipinitialspace, skiprows, skipfooter, nrows, na_values, keep_default_na, na_filter, verbose, skip_blank_lines, parse_dates, infer_datetime_format, keep_date_col, date_parser, date_format, dayfirst, cache_dates, iterator, chunksize, compression, thousands, decimal, lineterminator, quotechar, quoting, doublequote, escapechar, comment, encoding, encoding_errors, dialect, on_bad_lines, delim_whitespace, low_memory, memory_map, float_precision, storage_options, dtype_backend)\u001b[0m\n\u001b[1;32m    899\u001b[0m kwds_defaults \u001b[38;5;241m=\u001b[39m _refine_defaults_read(\n\u001b[1;32m    900\u001b[0m     dialect,\n\u001b[1;32m    901\u001b[0m     delimiter,\n\u001b[0;32m   (...)\u001b[0m\n\u001b[1;32m    908\u001b[0m     dtype_backend\u001b[38;5;241m=\u001b[39mdtype_backend,\n\u001b[1;32m    909\u001b[0m )\n\u001b[1;32m    910\u001b[0m kwds\u001b[38;5;241m.\u001b[39mupdate(kwds_defaults)\n\u001b[0;32m--> 912\u001b[0m \u001b[38;5;28;01mreturn\u001b[39;00m \u001b[43m_read\u001b[49m\u001b[43m(\u001b[49m\u001b[43mfilepath_or_buffer\u001b[49m\u001b[43m,\u001b[49m\u001b[43m \u001b[49m\u001b[43mkwds\u001b[49m\u001b[43m)\u001b[49m\n",
      "File \u001b[0;32m~/.local/lib/python3.10/site-packages/pandas/io/parsers/readers.py:577\u001b[0m, in \u001b[0;36m_read\u001b[0;34m(filepath_or_buffer, kwds)\u001b[0m\n\u001b[1;32m    574\u001b[0m _validate_names(kwds\u001b[38;5;241m.\u001b[39mget(\u001b[38;5;124m\"\u001b[39m\u001b[38;5;124mnames\u001b[39m\u001b[38;5;124m\"\u001b[39m, \u001b[38;5;28;01mNone\u001b[39;00m))\n\u001b[1;32m    576\u001b[0m \u001b[38;5;66;03m# Create the parser.\u001b[39;00m\n\u001b[0;32m--> 577\u001b[0m parser \u001b[38;5;241m=\u001b[39m \u001b[43mTextFileReader\u001b[49m\u001b[43m(\u001b[49m\u001b[43mfilepath_or_buffer\u001b[49m\u001b[43m,\u001b[49m\u001b[43m \u001b[49m\u001b[38;5;241;43m*\u001b[39;49m\u001b[38;5;241;43m*\u001b[39;49m\u001b[43mkwds\u001b[49m\u001b[43m)\u001b[49m\n\u001b[1;32m    579\u001b[0m \u001b[38;5;28;01mif\u001b[39;00m chunksize \u001b[38;5;129;01mor\u001b[39;00m iterator:\n\u001b[1;32m    580\u001b[0m     \u001b[38;5;28;01mreturn\u001b[39;00m parser\n",
      "File \u001b[0;32m~/.local/lib/python3.10/site-packages/pandas/io/parsers/readers.py:1407\u001b[0m, in \u001b[0;36mTextFileReader.__init__\u001b[0;34m(self, f, engine, **kwds)\u001b[0m\n\u001b[1;32m   1404\u001b[0m     \u001b[38;5;28mself\u001b[39m\u001b[38;5;241m.\u001b[39moptions[\u001b[38;5;124m\"\u001b[39m\u001b[38;5;124mhas_index_names\u001b[39m\u001b[38;5;124m\"\u001b[39m] \u001b[38;5;241m=\u001b[39m kwds[\u001b[38;5;124m\"\u001b[39m\u001b[38;5;124mhas_index_names\u001b[39m\u001b[38;5;124m\"\u001b[39m]\n\u001b[1;32m   1406\u001b[0m \u001b[38;5;28mself\u001b[39m\u001b[38;5;241m.\u001b[39mhandles: IOHandles \u001b[38;5;241m|\u001b[39m \u001b[38;5;28;01mNone\u001b[39;00m \u001b[38;5;241m=\u001b[39m \u001b[38;5;28;01mNone\u001b[39;00m\n\u001b[0;32m-> 1407\u001b[0m \u001b[38;5;28mself\u001b[39m\u001b[38;5;241m.\u001b[39m_engine \u001b[38;5;241m=\u001b[39m \u001b[38;5;28;43mself\u001b[39;49m\u001b[38;5;241;43m.\u001b[39;49m\u001b[43m_make_engine\u001b[49m\u001b[43m(\u001b[49m\u001b[43mf\u001b[49m\u001b[43m,\u001b[49m\u001b[43m \u001b[49m\u001b[38;5;28;43mself\u001b[39;49m\u001b[38;5;241;43m.\u001b[39;49m\u001b[43mengine\u001b[49m\u001b[43m)\u001b[49m\n",
      "File \u001b[0;32m~/.local/lib/python3.10/site-packages/pandas/io/parsers/readers.py:1661\u001b[0m, in \u001b[0;36mTextFileReader._make_engine\u001b[0;34m(self, f, engine)\u001b[0m\n\u001b[1;32m   1659\u001b[0m     \u001b[38;5;28;01mif\u001b[39;00m \u001b[38;5;124m\"\u001b[39m\u001b[38;5;124mb\u001b[39m\u001b[38;5;124m\"\u001b[39m \u001b[38;5;129;01mnot\u001b[39;00m \u001b[38;5;129;01min\u001b[39;00m mode:\n\u001b[1;32m   1660\u001b[0m         mode \u001b[38;5;241m+\u001b[39m\u001b[38;5;241m=\u001b[39m \u001b[38;5;124m\"\u001b[39m\u001b[38;5;124mb\u001b[39m\u001b[38;5;124m\"\u001b[39m\n\u001b[0;32m-> 1661\u001b[0m \u001b[38;5;28mself\u001b[39m\u001b[38;5;241m.\u001b[39mhandles \u001b[38;5;241m=\u001b[39m \u001b[43mget_handle\u001b[49m\u001b[43m(\u001b[49m\n\u001b[1;32m   1662\u001b[0m \u001b[43m    \u001b[49m\u001b[43mf\u001b[49m\u001b[43m,\u001b[49m\n\u001b[1;32m   1663\u001b[0m \u001b[43m    \u001b[49m\u001b[43mmode\u001b[49m\u001b[43m,\u001b[49m\n\u001b[1;32m   1664\u001b[0m \u001b[43m    \u001b[49m\u001b[43mencoding\u001b[49m\u001b[38;5;241;43m=\u001b[39;49m\u001b[38;5;28;43mself\u001b[39;49m\u001b[38;5;241;43m.\u001b[39;49m\u001b[43moptions\u001b[49m\u001b[38;5;241;43m.\u001b[39;49m\u001b[43mget\u001b[49m\u001b[43m(\u001b[49m\u001b[38;5;124;43m\"\u001b[39;49m\u001b[38;5;124;43mencoding\u001b[39;49m\u001b[38;5;124;43m\"\u001b[39;49m\u001b[43m,\u001b[49m\u001b[43m \u001b[49m\u001b[38;5;28;43;01mNone\u001b[39;49;00m\u001b[43m)\u001b[49m\u001b[43m,\u001b[49m\n\u001b[1;32m   1665\u001b[0m \u001b[43m    \u001b[49m\u001b[43mcompression\u001b[49m\u001b[38;5;241;43m=\u001b[39;49m\u001b[38;5;28;43mself\u001b[39;49m\u001b[38;5;241;43m.\u001b[39;49m\u001b[43moptions\u001b[49m\u001b[38;5;241;43m.\u001b[39;49m\u001b[43mget\u001b[49m\u001b[43m(\u001b[49m\u001b[38;5;124;43m\"\u001b[39;49m\u001b[38;5;124;43mcompression\u001b[39;49m\u001b[38;5;124;43m\"\u001b[39;49m\u001b[43m,\u001b[49m\u001b[43m \u001b[49m\u001b[38;5;28;43;01mNone\u001b[39;49;00m\u001b[43m)\u001b[49m\u001b[43m,\u001b[49m\n\u001b[1;32m   1666\u001b[0m \u001b[43m    \u001b[49m\u001b[43mmemory_map\u001b[49m\u001b[38;5;241;43m=\u001b[39;49m\u001b[38;5;28;43mself\u001b[39;49m\u001b[38;5;241;43m.\u001b[39;49m\u001b[43moptions\u001b[49m\u001b[38;5;241;43m.\u001b[39;49m\u001b[43mget\u001b[49m\u001b[43m(\u001b[49m\u001b[38;5;124;43m\"\u001b[39;49m\u001b[38;5;124;43mmemory_map\u001b[39;49m\u001b[38;5;124;43m\"\u001b[39;49m\u001b[43m,\u001b[49m\u001b[43m \u001b[49m\u001b[38;5;28;43;01mFalse\u001b[39;49;00m\u001b[43m)\u001b[49m\u001b[43m,\u001b[49m\n\u001b[1;32m   1667\u001b[0m \u001b[43m    \u001b[49m\u001b[43mis_text\u001b[49m\u001b[38;5;241;43m=\u001b[39;49m\u001b[43mis_text\u001b[49m\u001b[43m,\u001b[49m\n\u001b[1;32m   1668\u001b[0m \u001b[43m    \u001b[49m\u001b[43merrors\u001b[49m\u001b[38;5;241;43m=\u001b[39;49m\u001b[38;5;28;43mself\u001b[39;49m\u001b[38;5;241;43m.\u001b[39;49m\u001b[43moptions\u001b[49m\u001b[38;5;241;43m.\u001b[39;49m\u001b[43mget\u001b[49m\u001b[43m(\u001b[49m\u001b[38;5;124;43m\"\u001b[39;49m\u001b[38;5;124;43mencoding_errors\u001b[39;49m\u001b[38;5;124;43m\"\u001b[39;49m\u001b[43m,\u001b[49m\u001b[43m \u001b[49m\u001b[38;5;124;43m\"\u001b[39;49m\u001b[38;5;124;43mstrict\u001b[39;49m\u001b[38;5;124;43m\"\u001b[39;49m\u001b[43m)\u001b[49m\u001b[43m,\u001b[49m\n\u001b[1;32m   1669\u001b[0m \u001b[43m    \u001b[49m\u001b[43mstorage_options\u001b[49m\u001b[38;5;241;43m=\u001b[39;49m\u001b[38;5;28;43mself\u001b[39;49m\u001b[38;5;241;43m.\u001b[39;49m\u001b[43moptions\u001b[49m\u001b[38;5;241;43m.\u001b[39;49m\u001b[43mget\u001b[49m\u001b[43m(\u001b[49m\u001b[38;5;124;43m\"\u001b[39;49m\u001b[38;5;124;43mstorage_options\u001b[39;49m\u001b[38;5;124;43m\"\u001b[39;49m\u001b[43m,\u001b[49m\u001b[43m \u001b[49m\u001b[38;5;28;43;01mNone\u001b[39;49;00m\u001b[43m)\u001b[49m\u001b[43m,\u001b[49m\n\u001b[1;32m   1670\u001b[0m \u001b[43m\u001b[49m\u001b[43m)\u001b[49m\n\u001b[1;32m   1671\u001b[0m \u001b[38;5;28;01massert\u001b[39;00m \u001b[38;5;28mself\u001b[39m\u001b[38;5;241m.\u001b[39mhandles \u001b[38;5;129;01mis\u001b[39;00m \u001b[38;5;129;01mnot\u001b[39;00m \u001b[38;5;28;01mNone\u001b[39;00m\n\u001b[1;32m   1672\u001b[0m f \u001b[38;5;241m=\u001b[39m \u001b[38;5;28mself\u001b[39m\u001b[38;5;241m.\u001b[39mhandles\u001b[38;5;241m.\u001b[39mhandle\n",
      "File \u001b[0;32m~/.local/lib/python3.10/site-packages/pandas/io/common.py:859\u001b[0m, in \u001b[0;36mget_handle\u001b[0;34m(path_or_buf, mode, encoding, compression, memory_map, is_text, errors, storage_options)\u001b[0m\n\u001b[1;32m    854\u001b[0m \u001b[38;5;28;01melif\u001b[39;00m \u001b[38;5;28misinstance\u001b[39m(handle, \u001b[38;5;28mstr\u001b[39m):\n\u001b[1;32m    855\u001b[0m     \u001b[38;5;66;03m# Check whether the filename is to be opened in binary mode.\u001b[39;00m\n\u001b[1;32m    856\u001b[0m     \u001b[38;5;66;03m# Binary mode does not support 'encoding' and 'newline'.\u001b[39;00m\n\u001b[1;32m    857\u001b[0m     \u001b[38;5;28;01mif\u001b[39;00m ioargs\u001b[38;5;241m.\u001b[39mencoding \u001b[38;5;129;01mand\u001b[39;00m \u001b[38;5;124m\"\u001b[39m\u001b[38;5;124mb\u001b[39m\u001b[38;5;124m\"\u001b[39m \u001b[38;5;129;01mnot\u001b[39;00m \u001b[38;5;129;01min\u001b[39;00m ioargs\u001b[38;5;241m.\u001b[39mmode:\n\u001b[1;32m    858\u001b[0m         \u001b[38;5;66;03m# Encoding\u001b[39;00m\n\u001b[0;32m--> 859\u001b[0m         handle \u001b[38;5;241m=\u001b[39m \u001b[38;5;28;43mopen\u001b[39;49m\u001b[43m(\u001b[49m\n\u001b[1;32m    860\u001b[0m \u001b[43m            \u001b[49m\u001b[43mhandle\u001b[49m\u001b[43m,\u001b[49m\n\u001b[1;32m    861\u001b[0m \u001b[43m            \u001b[49m\u001b[43mioargs\u001b[49m\u001b[38;5;241;43m.\u001b[39;49m\u001b[43mmode\u001b[49m\u001b[43m,\u001b[49m\n\u001b[1;32m    862\u001b[0m \u001b[43m            \u001b[49m\u001b[43mencoding\u001b[49m\u001b[38;5;241;43m=\u001b[39;49m\u001b[43mioargs\u001b[49m\u001b[38;5;241;43m.\u001b[39;49m\u001b[43mencoding\u001b[49m\u001b[43m,\u001b[49m\n\u001b[1;32m    863\u001b[0m \u001b[43m            \u001b[49m\u001b[43merrors\u001b[49m\u001b[38;5;241;43m=\u001b[39;49m\u001b[43merrors\u001b[49m\u001b[43m,\u001b[49m\n\u001b[1;32m    864\u001b[0m \u001b[43m            \u001b[49m\u001b[43mnewline\u001b[49m\u001b[38;5;241;43m=\u001b[39;49m\u001b[38;5;124;43m\"\u001b[39;49m\u001b[38;5;124;43m\"\u001b[39;49m\u001b[43m,\u001b[49m\n\u001b[1;32m    865\u001b[0m \u001b[43m        \u001b[49m\u001b[43m)\u001b[49m\n\u001b[1;32m    866\u001b[0m     \u001b[38;5;28;01melse\u001b[39;00m:\n\u001b[1;32m    867\u001b[0m         \u001b[38;5;66;03m# Binary mode\u001b[39;00m\n\u001b[1;32m    868\u001b[0m         handle \u001b[38;5;241m=\u001b[39m \u001b[38;5;28mopen\u001b[39m(handle, ioargs\u001b[38;5;241m.\u001b[39mmode)\n",
      "\u001b[0;31mFileNotFoundError\u001b[0m: [Errno 2] No such file or directory: '1677CVEs_783dim_features.csv'"
     ]
    }
   ],
   "source": [
    "df_features = pd.read_csv(\"1677CVEs_783dim_features_20230326.csv\")\n",
    "df_features"
   ]
  },
  {
   "cell_type": "code",
   "execution_count": null,
   "id": "6a6ab9bc-7ef5-4ca2-bc08-bed1d327d41c",
   "metadata": {
    "colab": {
     "base_uri": "https://localhost:8080/",
     "height": 455
    },
    "id": "6a6ab9bc-7ef5-4ca2-bc08-bed1d327d41c",
    "outputId": "b241e3cd-bd25-4d9a-a2e4-272a483da8c4"
   },
   "outputs": [],
   "source": [
    "df_flag = pd.read_csv(\"CVE_list_with_flagCR_20230326.csv\", index_col = ['CVE'] )\n",
    "df_flag_sorted = df_flag.sort_values('CVE')\n",
    "df_flag_sorted"
   ]
  },
  {
   "cell_type": "code",
   "execution_count": null,
   "id": "2449f740-3d66-4a58-be90-5f843af920b6",
   "metadata": {
    "id": "2449f740-3d66-4a58-be90-5f843af920b6"
   },
   "outputs": [],
   "source": [
    "df_flag_sorted.drop('Unnamed: 0', inplace = True, axis = 1)"
   ]
  },
  {
   "cell_type": "code",
   "execution_count": null,
   "id": "39e6ab48-9ec2-481b-83c0-ebdf4885ca98",
   "metadata": {
    "colab": {
     "base_uri": "https://localhost:8080/",
     "height": 455
    },
    "id": "39e6ab48-9ec2-481b-83c0-ebdf4885ca98",
    "outputId": "8e1c7821-c86d-4183-8a2f-df65470c3859"
   },
   "outputs": [],
   "source": [
    "df_flag_sorted"
   ]
  },
  {
   "cell_type": "code",
   "execution_count": null,
   "id": "82a585e7-1cc2-4a9c-8e98-3bdfd745542e",
   "metadata": {
    "colab": {
     "base_uri": "https://localhost:8080/",
     "height": 835
    },
    "id": "82a585e7-1cc2-4a9c-8e98-3bdfd745542e",
    "outputId": "56c76564-4563-4fc2-843f-0d58e4140531"
   },
   "outputs": [],
   "source": [
    "df_features.rename({\"Unnamed: 0\" : \"CVE\"}, inplace = True, axis = 1)\n",
    "df_features"
   ]
  },
  {
   "cell_type": "code",
   "execution_count": null,
   "id": "9432a0dc-5855-4988-88b1-081d63283200",
   "metadata": {
    "colab": {
     "base_uri": "https://localhost:8080/",
     "height": 866
    },
    "id": "9432a0dc-5855-4988-88b1-081d63283200",
    "outputId": "f9112e0b-6dc2-4606-abbd-0194b470de25"
   },
   "outputs": [],
   "source": [
    "df_features.set_index('CVE', inplace = True)\n",
    "df_features"
   ]
  },
  {
   "cell_type": "markdown",
   "id": "1b5e0212-3c0b-45ad-b54d-6b6f2a870bba",
   "metadata": {
    "id": "1b5e0212-3c0b-45ad-b54d-6b6f2a870bba"
   },
   "source": [
    "## Dividing Data"
   ]
  },
  {
   "cell_type": "code",
   "execution_count": null,
   "id": "31f72afe-7f8b-45a3-9f0f-b1af2e90c1e3",
   "metadata": {
    "colab": {
     "base_uri": "https://localhost:8080/"
    },
    "id": "31f72afe-7f8b-45a3-9f0f-b1af2e90c1e3",
    "outputId": "5cc4f3f8-d55f-43a7-f831-4d58720b3bf6"
   },
   "outputs": [],
   "source": [
    "df_features.isnull().sum()"
   ]
  },
  {
   "cell_type": "markdown",
   "id": "e68bd135-0e2f-4644-9b1b-05aa82a01b6f",
   "metadata": {
    "id": "e68bd135-0e2f-4644-9b1b-05aa82a01b6f"
   },
   "source": [
    "## Filter the features which are NaN"
   ]
  },
  {
   "cell_type": "code",
   "execution_count": null,
   "id": "6GLmcOrrNsVJ",
   "metadata": {
    "id": "6GLmcOrrNsVJ"
   },
   "outputs": [],
   "source": [
    "!pip3 install tsfresh"
   ]
  },
  {
   "cell_type": "code",
   "execution_count": null,
   "id": "e3952191-2590-498b-ae69-d80cacba29a3",
   "metadata": {
    "colab": {
     "base_uri": "https://localhost:8080/",
     "height": 1000
    },
    "id": "e3952191-2590-498b-ae69-d80cacba29a3",
    "outputId": "bc97e5d0-2fc8-4adb-83f1-97a24250611e"
   },
   "outputs": [],
   "source": [
    "from tsfresh import select_features\n",
    "from tsfresh.utilities.dataframe_functions import impute\n",
    "impute(df_features)\n",
    "# y = df_flag_sorted['flag_H']\n",
    "# features_filterd = select_features(df_features, y)\n",
    "# features_filterd"
   ]
  },
  {
   "cell_type": "markdown",
   "id": "835922c4-9518-4827-9f09-2acd54d6ecbf",
   "metadata": {
    "id": "835922c4-9518-4827-9f09-2acd54d6ecbf"
   },
   "source": [
    "## Random Forest (No Cross Validation)"
   ]
  },
  {
   "cell_type": "code",
   "execution_count": null,
   "id": "1f6ef14a-7c70-4569-b8c1-9fd218f16d87",
   "metadata": {
    "id": "1f6ef14a-7c70-4569-b8c1-9fd218f16d87"
   },
   "outputs": [],
   "source": [
    "train_data = df_features\n",
    "y = df_flag_sorted['flag_CR']\n",
    "X = train_data.values\n",
    "\n",
    "X_train, X_test, y_train, y_test = train_test_split(X, y, test_size = 0.3, random_state = 1234)"
   ]
  },
  {
   "cell_type": "code",
   "execution_count": null,
   "id": "51e60668-0487-4a0a-aaf1-96f0da9f02d6",
   "metadata": {
    "colab": {
     "base_uri": "https://localhost:8080/"
    },
    "id": "51e60668-0487-4a0a-aaf1-96f0da9f02d6",
    "outputId": "8af0ad80-7aa1-40d7-ee2d-0a70348f4af0"
   },
   "outputs": [],
   "source": [
    "clf = RandomForestClassifier(random_state = 1234)\n",
    "clf.fit(X_train, y_train)\n",
    "print(f\"accuracy={clf.score(X_test, y_test)}\")"
   ]
  },
  {
   "cell_type": "code",
   "execution_count": null,
   "id": "a9535716-22f7-4bd0-9dbd-216a6077b07c",
   "metadata": {
    "id": "a9535716-22f7-4bd0-9dbd-216a6077b07c"
   },
   "outputs": [],
   "source": [
    "y_pred = clf.predict(X_test)"
   ]
  },
  {
   "cell_type": "code",
   "execution_count": null,
   "id": "f96245a3-1661-4a33-89ed-302efe274f45",
   "metadata": {
    "id": "f96245a3-1661-4a33-89ed-302efe274f45"
   },
   "outputs": [],
   "source": [
    "from sklearn.metrics import confusion_matrix"
   ]
  },
  {
   "cell_type": "code",
   "execution_count": null,
   "id": "1e634676-cf0d-48b2-a5d1-c77e976326b3",
   "metadata": {
    "colab": {
     "base_uri": "https://localhost:8080/"
    },
    "id": "1e634676-cf0d-48b2-a5d1-c77e976326b3",
    "outputId": "d70acc9b-14aa-47ce-d53a-8252ec96c31f"
   },
   "outputs": [],
   "source": [
    "print(f\"comfusion_matrix={confusion_matrix(y_test, y_pred)}\")"
   ]
  },
  {
   "cell_type": "code",
   "execution_count": null,
   "id": "dc33925a-0171-4905-b7d9-7c0fcd1d65eb",
   "metadata": {
    "colab": {
     "base_uri": "https://localhost:8080/"
    },
    "id": "dc33925a-0171-4905-b7d9-7c0fcd1d65eb",
    "outputId": "29404676-f842-4c7c-b9ac-54cf3f2609d7"
   },
   "outputs": [],
   "source": [
    "from sklearn.metrics import accuracy_score\n",
    "from sklearn.metrics import precision_score\n",
    "from sklearn.metrics import recall_score\n",
    "from sklearn.metrics import f1_score\n",
    "print(\"Accuracy:{:.3f}\".format(accuracy_score(y_test, y_pred)))\n",
    "print(\"Precision:{:.3f}\".format(precision_score(y_test, y_pred)))\n",
    "print(\"Recall:{:.3f}\".format(recall_score(y_test, y_pred)))\n",
    "print(\"F1 Score:{:.3f}\".format(f1_score(y_test, y_pred)))"
   ]
  },
  {
   "cell_type": "markdown",
   "id": "f54d004d-ad67-4826-9cf9-cedb5ccd97fd",
   "metadata": {
    "id": "f54d004d-ad67-4826-9cf9-cedb5ccd97fd"
   },
   "source": [
    "## Random Forest (Stratified K-Fold Cross Validation:層化K分割交差検証)"
   ]
  },
  {
   "cell_type": "code",
   "execution_count": null,
   "id": "15c2f7c6-c388-4cd3-96e3-ba3684802609",
   "metadata": {
    "id": "15c2f7c6-c388-4cd3-96e3-ba3684802609"
   },
   "outputs": [],
   "source": [
    "from sklearn.model_selection import StratifiedKFold\n",
    "from sklearn.model_selection import cross_val_score\n",
    "from sklearn.pipeline import Pipeline\n",
    "from sklearn.preprocessing import StandardScaler"
   ]
  },
  {
   "cell_type": "code",
   "execution_count": null,
   "id": "ab6fc195-0b74-4d3d-bfb1-2e0553ab236f",
   "metadata": {
    "id": "ab6fc195-0b74-4d3d-bfb1-2e0553ab236f"
   },
   "outputs": [],
   "source": [
    "# StratifiedKFoldの設定\n",
    "skf = StratifiedKFold(n_splits = 10, shuffle = True, random_state = 1234)"
   ]
  },
  {
   "cell_type": "code",
   "execution_count": null,
   "id": "2fdda33d-1c1a-4948-b929-c2b422f457bc",
   "metadata": {
    "id": "2fdda33d-1c1a-4948-b929-c2b422f457bc"
   },
   "outputs": [],
   "source": [
    "#　標準化の設定\n",
    "ss_kfold = StandardScaler()"
   ]
  },
  {
   "cell_type": "code",
   "execution_count": null,
   "id": "1687d83b-10d9-47fa-a1d0-bc01919d19ef",
   "metadata": {
    "id": "1687d83b-10d9-47fa-a1d0-bc01919d19ef"
   },
   "outputs": [],
   "source": [
    "f1 = cross_val_score(clf, X, y, cv=skf, scoring='f1')"
   ]
  },
  {
   "cell_type": "code",
   "execution_count": null,
   "id": "2d07723c-619e-4328-8cc2-c5e54bcd6394",
   "metadata": {
    "colab": {
     "base_uri": "https://localhost:8080/"
    },
    "id": "2d07723c-619e-4328-8cc2-c5e54bcd6394",
    "outputId": "e9d71238-7c28-428a-b364-2c99a349f251"
   },
   "outputs": [],
   "source": [
    "f1"
   ]
  },
  {
   "cell_type": "code",
   "execution_count": null,
   "id": "a2cce14e-f6fd-484c-a562-b118c6e9be5d",
   "metadata": {
    "colab": {
     "base_uri": "https://localhost:8080/"
    },
    "id": "a2cce14e-f6fd-484c-a562-b118c6e9be5d",
    "outputId": "4fd0aabc-312c-4e6a-d662-716c1223afa1"
   },
   "outputs": [],
   "source": [
    "f1.mean()\n",
    "    "
   ]
  },
  {
   "cell_type": "code",
   "execution_count": null,
   "id": "22a53233-0fb2-41a3-9e9d-0e6b2036989e",
   "metadata": {
    "id": "22a53233-0fb2-41a3-9e9d-0e6b2036989e"
   },
   "outputs": [],
   "source": [
    "accuracy = cross_val_score(clf, X, y, cv=skf, scoring='accuracy')"
   ]
  },
  {
   "cell_type": "code",
   "execution_count": null,
   "id": "5badd091-e305-4664-8741-f4b2da8b0ee1",
   "metadata": {
    "colab": {
     "base_uri": "https://localhost:8080/"
    },
    "id": "5badd091-e305-4664-8741-f4b2da8b0ee1",
    "outputId": "f5be7ec9-210c-4ffa-d336-c157f467e554"
   },
   "outputs": [],
   "source": [
    "accuracy"
   ]
  },
  {
   "cell_type": "code",
   "execution_count": null,
   "id": "0b99a3c4-ee05-4fd3-923d-da70281f8936",
   "metadata": {
    "colab": {
     "base_uri": "https://localhost:8080/"
    },
    "id": "0b99a3c4-ee05-4fd3-923d-da70281f8936",
    "outputId": "d4739978-1603-4037-a040-2467ac535512"
   },
   "outputs": [],
   "source": [
    "accuracy.mean()"
   ]
  },
  {
   "cell_type": "code",
   "execution_count": null,
   "id": "d0c97b17-ee5b-473d-94c0-c4a33ffb7953",
   "metadata": {
    "id": "d0c97b17-ee5b-473d-94c0-c4a33ffb7953"
   },
   "outputs": [],
   "source": [
    "recall = cross_val_score(clf, X, y, cv=skf, scoring='recall')"
   ]
  },
  {
   "cell_type": "code",
   "execution_count": null,
   "id": "bbf5143a-60fc-4ef7-9fae-b09e147e4375",
   "metadata": {
    "colab": {
     "base_uri": "https://localhost:8080/"
    },
    "id": "bbf5143a-60fc-4ef7-9fae-b09e147e4375",
    "outputId": "9f93c880-175e-4e40-ba00-6abbd1210b7a"
   },
   "outputs": [],
   "source": [
    "recall"
   ]
  },
  {
   "cell_type": "code",
   "execution_count": null,
   "id": "a8c4de3f-6335-4cdd-ad9c-0f73342b9eb8",
   "metadata": {
    "colab": {
     "base_uri": "https://localhost:8080/"
    },
    "id": "a8c4de3f-6335-4cdd-ad9c-0f73342b9eb8",
    "outputId": "05dbc7b7-8609-4a93-f464-a3b61bc74cb7"
   },
   "outputs": [],
   "source": [
    "recall.mean()"
   ]
  },
  {
   "cell_type": "code",
   "execution_count": null,
   "id": "c9d24c0a-f33f-4192-a97a-7f0bf5f1aa6f",
   "metadata": {
    "colab": {
     "base_uri": "https://localhost:8080/"
    },
    "id": "c9d24c0a-f33f-4192-a97a-7f0bf5f1aa6f",
    "outputId": "5fc26e7d-a462-45de-d610-adcdfbc96303"
   },
   "outputs": [],
   "source": [
    "precision = cross_val_score(clf, X, y, cv=skf, scoring='precision')\n",
    "precision"
   ]
  },
  {
   "cell_type": "code",
   "execution_count": null,
   "id": "d74f9162-84d0-48df-a1e6-3a7dcc271e25",
   "metadata": {
    "colab": {
     "base_uri": "https://localhost:8080/"
    },
    "id": "d74f9162-84d0-48df-a1e6-3a7dcc271e25",
    "outputId": "267ef35e-f298-436e-9f10-2a25f8963224"
   },
   "outputs": [],
   "source": [
    "precision.mean()"
   ]
  },
  {
   "cell_type": "code",
   "execution_count": null,
   "id": "e1bb3a21",
   "metadata": {},
   "outputs": [],
   "source": [
    "print(\"Accuracy:{:.3f}\".format(accuracy.mean()))\n",
    "print(\"Precision:{:.3f}\".format(precision.mean()))\n",
    "print(\"Recall:{:.3f}\".format(recall.mean()))\n",
    "print(\"F1 Score:{:.3f}\".format(f1.mean()))"
   ]
  },
  {
   "cell_type": "code",
   "execution_count": null,
   "id": "XeCJpKoOOJKz",
   "metadata": {
    "id": "XeCJpKoOOJKz"
   },
   "outputs": [],
   "source": [
    "## Grid Search with Cross Validation"
   ]
  },
  {
   "cell_type": "markdown",
   "id": "Kuv_ILxcOMeM",
   "metadata": {
    "id": "Kuv_ILxcOMeM"
   },
   "source": [
    "## Grid Search with Cross Validation"
   ]
  },
  {
   "cell_type": "code",
   "execution_count": null,
   "id": "Mf5K1cSoOJ5k",
   "metadata": {
    "colab": {
     "base_uri": "https://localhost:8080/",
     "height": 1000
    },
    "id": "Mf5K1cSoOJ5k",
    "outputId": "7931eb7b-6a03-4812-b923-ff27b110c038"
   },
   "outputs": [],
   "source": [
    "from sklearn.model_selection import GridSearchCV\n",
    "# Create the parameter grid based on the research paper\n",
    "param_grid = {\n",
    "    'n_estimators': [10, 20, 30, 50, 100, 300],\n",
    "    'max_features': ['sqrt', 'log2', 'auto', None],\n",
    "    'max_depth': [10, 20, 30, 40, 50, None]\n",
    "}\n",
    "# Instantiate the grid search model\n",
    "clf = RandomForestClassifier(random_state = 1234)\n",
    "grid_search = GridSearchCV(estimator = clf, param_grid = param_grid, cv = skf, scoring='f1')\n",
    "\n",
    "# Fit the grid search to the data\n",
    "grid_search.fit(X_train, y_train)"
   ]
  },
  {
   "cell_type": "code",
   "execution_count": null,
   "id": "wp2xFLGHOR3K",
   "metadata": {
    "id": "wp2xFLGHOR3K"
   },
   "outputs": [],
   "source": []
  },
  {
   "cell_type": "code",
   "execution_count": null,
   "id": "VhPNmokGOSnq",
   "metadata": {
    "colab": {
     "base_uri": "https://localhost:8080/"
    },
    "id": "VhPNmokGOSnq",
    "outputId": "dde98fc9-c8df-43b7-8983-a64348599ca9"
   },
   "outputs": [],
   "source": [
    "grid_search.best_params_"
   ]
  },
  {
   "cell_type": "code",
   "execution_count": null,
   "id": "ZTc9s2eKOV19",
   "metadata": {
    "id": "ZTc9s2eKOV19"
   },
   "outputs": [],
   "source": [
    "def evaluate(model, test_features, test_labels):\n",
    "    predictions = model.predict(test_features)\n",
    "    errors = abs(predictions - test_labels)\n",
    "    mape = 100 * np.mean(errors / test_labels)\n",
    "    accuracy = 100 - mape\n",
    "    print('Model Performance')\n",
    "    print('Average Error: {:0.4f} degrees.'.format(np.mean(errors)))\n",
    "    print('Accuracy = {:0.2f}%.'.format(accuracy))\n",
    "    \n",
    "    return accuracy"
   ]
  },
  {
   "cell_type": "code",
   "execution_count": null,
   "id": "DwK2vzjgOZXl",
   "metadata": {
    "colab": {
     "base_uri": "https://localhost:8080/"
    },
    "id": "DwK2vzjgOZXl",
    "outputId": "df2a131b-6cc5-4e6f-94ce-e4030aef22e2"
   },
   "outputs": [],
   "source": [
    "import numpy as np\n",
    "best_grid = grid_search.best_estimator_\n",
    "grid_accuracy = evaluate(best_grid, X_test, y_test)"
   ]
  },
  {
   "cell_type": "code",
   "execution_count": null,
   "id": "g0rd8ypMOc4S",
   "metadata": {
    "id": "g0rd8ypMOc4S"
   },
   "outputs": [],
   "source": [
    "df_result = grid_search.cv_results_"
   ]
  },
  {
   "cell_type": "code",
   "execution_count": null,
   "id": "-bliIb8cOiLO",
   "metadata": {
    "id": "-bliIb8cOiLO"
   },
   "outputs": [],
   "source": [
    "df_result"
   ]
  },
  {
   "cell_type": "code",
   "execution_count": null,
   "id": "HqH8xBPCOi33",
   "metadata": {
    "id": "HqH8xBPCOi33"
   },
   "outputs": [],
   "source": [
    "import pickle\n",
    "with open('cv_CR_tw_result.pkl', 'wb') as fp:\n",
    "  pickle.dump(df_result, fp)"
   ]
  },
  {
   "cell_type": "code",
   "execution_count": null,
   "id": "1zHTksPeOyfs",
   "metadata": {
    "colab": {
     "base_uri": "https://localhost:8080/"
    },
    "id": "1zHTksPeOyfs",
    "outputId": "24d873d4-43c0-4684-a49a-e691b3cca100"
   },
   "outputs": [],
   "source": [
    "print(best_grid)"
   ]
  },
  {
   "cell_type": "code",
   "execution_count": null,
   "id": "Mf0shhGaO1RD",
   "metadata": {
    "colab": {
     "base_uri": "https://localhost:8080/"
    },
    "id": "Mf0shhGaO1RD",
    "outputId": "a57c1f6e-042e-4779-c995-a20364c5e2d2"
   },
   "outputs": [],
   "source": [
    "#テストデータに対する予測\n",
    "y_pred = best_grid.predict(X_test)\n",
    "#正解率の表示\n",
    "print(f\"accuracy_score={accuracy_score(y_test, y_pred)}\\n\\\n",
    "precision_score={precision_score(y_test, y_pred)}\\n\\\n",
    "recall_score={recall_score(y_test, y_pred)}\\n\\\n",
    "f1_score={f1_score(y_test, y_pred)}\")"
   ]
  },
  {
   "cell_type": "code",
   "execution_count": null,
   "id": "htjusK1EO5Cb",
   "metadata": {
    "id": "htjusK1EO5Cb"
   },
   "outputs": [],
   "source": [
    "print(\"Accuracy:{:.3f}\".format(accuracy_score(y_test, y_pred)))\n",
    "print(\"Precision:{:.3f}\".format(precision_score(y_test, y_pred)))\n",
    "print(\"Recall:{:.3f}\".format(recall_score(y_test, y_pred)))\n",
    "print(\"F1 Score:{:.3f}\".format(f1_score(y_test, y_pred)))"
   ]
  },
  {
   "cell_type": "markdown",
   "id": "kVY1krhLzQdx",
   "metadata": {
    "id": "kVY1krhLzQdx"
   },
   "source": [
    "## Random Search Training"
   ]
  },
  {
   "cell_type": "code",
   "execution_count": null,
   "id": "-gfhB2nzzxLP",
   "metadata": {
    "colab": {
     "base_uri": "https://localhost:8080/"
    },
    "id": "-gfhB2nzzxLP",
    "outputId": "8164c64c-2291-42f1-d762-4b209b584ef3"
   },
   "outputs": [],
   "source": [
    "from pprint import pprint\n",
    "from sklearn.model_selection import RandomizedSearchCV\n",
    "\n",
    "# Number of trees in random forest\n",
    "n_estimators = [int(x) for x in np.linspace(start = 200, stop = 2000, num = 10)]\n",
    "\n",
    "# Number of features to consider at every split\n",
    "max_features = ['auto', 'sqrt']\n",
    "\n",
    "# Maximum number of levels in tree\n",
    "max_depth = [int(x) for x in np.linspace(10, 110, num = 11)]\n",
    "max_depth.append(None)\n",
    "\n",
    "# Minimum number of samples required to split a node\n",
    "min_samples_split = [2, 5, 10]\n",
    "\n",
    "# Minimum number of samples required at each leaf node\n",
    "min_samples_leaf = [1, 2, 4]\n",
    "\n",
    "# Method of selecting samples for training each tree\n",
    "bootstrap = [True, False]\n",
    "\n",
    "# Create the random grid\n",
    "random_grid = {'n_estimators': n_estimators,\n",
    "               'max_features': max_features,\n",
    "               'max_depth': max_depth,\n",
    "               'min_samples_split': min_samples_split,\n",
    "               'min_samples_leaf': min_samples_leaf,\n",
    "               'bootstrap': bootstrap}\n",
    "pprint(random_grid)"
   ]
  },
  {
   "cell_type": "code",
   "execution_count": null,
   "id": "pcxyll01zRuj",
   "metadata": {
    "colab": {
     "base_uri": "https://localhost:8080/",
     "height": 1000
    },
    "id": "pcxyll01zRuj",
    "outputId": "56a8417b-7476-4791-fdb2-570210ce4711"
   },
   "outputs": [],
   "source": [
    "# Instantiate the grid search model\n",
    "clf = RandomForestClassifier(random_state = 1234)\n",
    "clf_random = RandomizedSearchCV(estimator = clf, param_distributions = random_grid, n_iter = 100, cv = skf, scoring='f1')\n",
    "\n",
    "# Fit the grid search to the data\n",
    "clf_random.fit(X_train, y_train)"
   ]
  },
  {
   "cell_type": "code",
   "execution_count": null,
   "id": "Hiv1jYU46uuV",
   "metadata": {
    "colab": {
     "base_uri": "https://localhost:8080/"
    },
    "id": "Hiv1jYU46uuV",
    "outputId": "7ba4c787-8bc1-4e64-ddd0-d1ac9a83f308"
   },
   "outputs": [],
   "source": [
    "clf_random.best_params_"
   ]
  },
  {
   "cell_type": "code",
   "execution_count": null,
   "id": "dS6hUcn50zLg",
   "metadata": {
    "id": "dS6hUcn50zLg"
   },
   "outputs": [],
   "source": [
    "best_random = clf_random.best_estimator_"
   ]
  },
  {
   "cell_type": "code",
   "execution_count": null,
   "id": "BYQJUmye6lFx",
   "metadata": {
    "id": "BYQJUmye6lFx"
   },
   "outputs": [],
   "source": [
    "df_rand_result = clf_random.cv_results_\n",
    "import pickle\n",
    "with open('cv_rand_CR_tw_result.pkl', 'wb') as fp:\n",
    "  pickle.dump(df_rand_result, fp)"
   ]
  },
  {
   "cell_type": "code",
   "execution_count": null,
   "id": "VbRtMhWS6_M4",
   "metadata": {
    "colab": {
     "base_uri": "https://localhost:8080/"
    },
    "id": "VbRtMhWS6_M4",
    "outputId": "8becaf3a-221d-405a-f83c-938b49475006"
   },
   "outputs": [],
   "source": [
    "#テストデータに対する予測\n",
    "y_pred = best_random.predict(X_test)\n",
    "#正解率の表示\n",
    "print(f\"accuracy_score={accuracy_score(y_test, y_pred)}\\n\\\n",
    "precision_score={precision_score(y_test, y_pred)}\\n\\\n",
    "recall_score={recall_score(y_test, y_pred)}\\n\\\n",
    "f1_score={f1_score(y_test, y_pred)}\")"
   ]
  },
  {
   "cell_type": "code",
   "execution_count": null,
   "id": "VYptaeXK7FZi",
   "metadata": {
    "id": "VYptaeXK7FZi"
   },
   "outputs": [],
   "source": [
    "print(\"Accuracy:{:.3f}\".format(accuracy_score(y_test, y_pred)))\n",
    "print(\"Precision:{:.3f}\".format(precision_score(y_test, y_pred)))\n",
    "print(\"Recall:{:.3f}\".format(recall_score(y_test, y_pred)))\n",
    "print(\"F1 Score:{:.3f}\".format(f1_score(y_test, y_pred)))"
   ]
  },
  {
   "cell_type": "markdown",
   "id": "7156adea",
   "metadata": {},
   "source": [
    "## Bayesian Optimization"
   ]
  },
  {
   "cell_type": "code",
   "execution_count": null,
   "id": "56e34714",
   "metadata": {},
   "outputs": [],
   "source": [
    "# Define the stratified_kfold_score function for bayesian OP\n",
    "def stratified_kfold_score(clf,X,y,n_fold):\n",
    "    #X,y = X,y\n",
    "    strat_kfold = StratifiedKFold(n_splits=n_fold, shuffle=True, random_state=1234)\n",
    "    f1score_list = []\n",
    "\n",
    "    for train_index, test_index in strat_kfold.split(X, y):\n",
    "        x_train_fold, x_test_fold = X[train_index], X[test_index]\n",
    "        y_train_fold, y_test_fold = y[train_index], y[test_index]\n",
    "        clf.fit(x_train_fold, y_train_fold)\n",
    "        y_pred = clf.predict(x_test_fold)\n",
    "        f1score_test = f1_score(y_test_fold, y_pred)\n",
    "        f1score_list.append(f1score_test)\n",
    "\n",
    "    return np.array(f1score_list).mean()"
   ]
  },
  {
   "cell_type": "code",
   "execution_count": null,
   "id": "4a382da9",
   "metadata": {},
   "outputs": [],
   "source": [
    "# Define the function to maximize\n",
    "def bo_params_rf(max_samples,n_estimators,max_features):\n",
    "    \n",
    "    params = {\n",
    "        'max_samples': max_samples,\n",
    "        'max_features':max_features,\n",
    "        'n_estimators':int(n_estimators)\n",
    "    }\n",
    "    clf = RandomForestClassifier(max_samples=params['max_samples'],max_features=params['max_features'],n_estimators=params['n_estimators'])\n",
    "    score = stratified_kfold_score(clf,X_train, y_train, 10)\n",
    "    return score"
   ]
  },
  {
   "cell_type": "code",
   "execution_count": null,
   "id": "2ff26583",
   "metadata": {},
   "outputs": [],
   "source": [
    "!pip3 install bayesian-optimization"
   ]
  },
  {
   "cell_type": "code",
   "execution_count": null,
   "id": "38ac2baf",
   "metadata": {},
   "outputs": [],
   "source": [
    "from bayes_opt import BayesianOptimization\n",
    "rf_bo = BayesianOptimization(f=bo_params_rf, pbounds={\n",
    "                                              \"max_samples\": (0.0, 1.0),\n",
    "                                                'max_features':(0.5,1),\n",
    "                                              'n_estimators':(200,2000)\n",
    "                                             },random_state=1234, verbose=2)"
   ]
  },
  {
   "cell_type": "code",
   "execution_count": null,
   "id": "b0500fac",
   "metadata": {},
   "outputs": [],
   "source": [
    "results = rf_bo.maximize(n_iter=200, init_points=20)"
   ]
  },
  {
   "cell_type": "code",
   "execution_count": null,
   "id": "b8e82ad5",
   "metadata": {},
   "outputs": [],
   "source": [
    "print(rf_bo.max)"
   ]
  },
  {
   "cell_type": "code",
   "execution_count": null,
   "id": "3406b48d",
   "metadata": {},
   "outputs": [],
   "source": [
    "print(rf_bo.max['params'])"
   ]
  },
  {
   "cell_type": "code",
   "execution_count": null,
   "id": "bcaf6718",
   "metadata": {},
   "outputs": [],
   "source": [
    "for i, res in enumerate(rf_bo.res):\n",
    "    print(\"Iteration {}: \\n\\t{}\".format(i, res))"
   ]
  },
  {
   "cell_type": "code",
   "execution_count": null,
   "id": "1b242402",
   "metadata": {},
   "outputs": [],
   "source": [
    "from pprint import pprint\n",
    "pprint(rf_bo.res)"
   ]
  },
  {
   "cell_type": "code",
   "execution_count": null,
   "id": "41a648c0",
   "metadata": {},
   "outputs": [],
   "source": [
    "import json\n",
    "with open ('RF_CR_tw.json','w') as f:\n",
    "    json.dump(rf_bo.res, f, indent=4)"
   ]
  },
  {
   "cell_type": "markdown",
   "id": "b8cc237c",
   "metadata": {},
   "source": [
    "## Get scores of best params"
   ]
  },
  {
   "cell_type": "code",
   "execution_count": null,
   "id": "9f71faa6",
   "metadata": {},
   "outputs": [],
   "source": [
    "# Define the stratified_kfold_score function for bayesian OP\n",
    "def stratified_kfold_scores(clf,X,y,n_fold):\n",
    "    #X,y = X,y\n",
    "    strat_kfold = StratifiedKFold(n_splits=n_fold, shuffle=True, random_state=1234)\n",
    "    \n",
    "    accuracy_list = []\n",
    "    precision_list = []\n",
    "    recall_list = []\n",
    "    f1score_list = []\n",
    "\n",
    "    for train_index, test_index in strat_kfold.split(X, y):\n",
    "        x_train_fold, x_test_fold = X[train_index], X[test_index]\n",
    "        y_train_fold, y_test_fold = y[train_index], y[test_index]\n",
    "        clf.fit(x_train_fold, y_train_fold)\n",
    "        y_pred = clf.predict(x_test_fold)\n",
    "        \n",
    "        accuracy_test = accuracy_score(y_test_fold, y_pred)\n",
    "        precision_test = precision_score(y_test_fold, y_pred)\n",
    "        recall_test = recall_score(y_test_fold, y_pred)\n",
    "        f1score_test = f1_score(y_test_fold, y_pred)\n",
    "        \n",
    "        accuracy_list.append(accuracy_test)\n",
    "        precision_list.append(precision_test)       \n",
    "        recall_list.append(recall_test)\n",
    "        f1score_list.append(f1score_test)\n",
    "    \n",
    "    accuracy = np.array(accuracy_list).mean()\n",
    "    precision = np.array(precision_list).mean()\n",
    "    recall = np.array(recall_list).mean()\n",
    "    f1 = np.array(f1score_list).mean()\n",
    "\n",
    "    return np.array([accuracy, precision, recall, f1])"
   ]
  },
  {
   "cell_type": "code",
   "execution_count": null,
   "id": "a4e36d7c",
   "metadata": {},
   "outputs": [],
   "source": [
    "# Define the evaluation function\n",
    "def bo_params_rf_best(best_params_dict):\n",
    "    \n",
    "    \n",
    "    best_params_int = {\n",
    "        'max_samples': best_params_dict['max_samples'],\n",
    "        'max_features':best_params_dict['max_features'],\n",
    "        'n_estimators':int(best_params_dict['n_estimators'])\n",
    "    }\n",
    "    params = best_params_int\n",
    "    \n",
    "    clf = RandomForestClassifier(max_samples=params['max_samples'],max_features=params['max_features'],n_estimators=params['n_estimators'])\n",
    "    scores = stratified_kfold_scores(clf,X_train, y_train, 10)\n",
    "    return scores"
   ]
  },
  {
   "cell_type": "code",
   "execution_count": null,
   "id": "b3ffd548",
   "metadata": {},
   "outputs": [],
   "source": [
    "scores = bo_params_rf_best(rf_bo.max['params'])\n",
    "print(\"Accuracy:{:.3f}\".format(scores[0]))\n",
    "print(\"Precision:{:.3f}\".format(scores[1]))\n",
    "print(\"Recall:{:.3f}\".format(scores[2]))\n",
    "print(\"F1 Score:{:.3f}\".format(scores[3]))"
   ]
  },
  {
   "cell_type": "code",
   "execution_count": null,
   "id": "0ff01133",
   "metadata": {},
   "outputs": [],
   "source": []
  },
  {
   "cell_type": "code",
   "execution_count": null,
   "id": "7b68a9aa",
   "metadata": {},
   "outputs": [],
   "source": []
  }
 ],
 "metadata": {
  "colab": {
   "provenance": []
  },
  "kernelspec": {
   "display_name": "Python 3 (ipykernel)",
   "language": "python",
   "name": "python3"
  },
  "language_info": {
   "codemirror_mode": {
    "name": "ipython",
    "version": 3
   },
   "file_extension": ".py",
   "mimetype": "text/x-python",
   "name": "python",
   "nbconvert_exporter": "python",
   "pygments_lexer": "ipython3",
   "version": "3.10.9"
  }
 },
 "nbformat": 4,
 "nbformat_minor": 5
}
